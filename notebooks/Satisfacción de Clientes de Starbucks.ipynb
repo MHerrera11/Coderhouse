{
 "cells": [
  {
   "attachments": {},
   "cell_type": "markdown",
   "metadata": {},
   "source": [
    "# Satisfacción de Clientes de Starbucks"
   ]
  },
  {
   "attachments": {},
   "cell_type": "markdown",
   "metadata": {},
   "source": [
    "### **Presentación del problema específico**\n",
    "\n",
    "A pesar de ser una de las marcas de café más reconocidas a nivel mundial, Starbucks también enfrenta desafíos en la satisfacción del cliente. Algunos de los problemas más comunes incluyen demoras en el servicio y problemas con la calidad de los productos, su personalización y los precios elevados. Además de tener problemas con la experiencia en tienda y con la tecnología que afecten la satisfacción del cliente.\n",
    "\n",
    "> ##### **Fuentes: https://acortar.link/hLD1Ij**\n",
    "\n",
    "\n",
    "### **Preguntas y objetivos de la investigación**\n",
    "\n",
    "**Objetivos general**\n",
    "\n",
    "Desarrollar un modelo de datos predictivo que pueda, a partir de factores vinculados al estilo de vida y datos clínicos básicos, determinar el riesgo que un determinado paciente tiene de desarrollar una ECV. \n",
    "\n",
    "**Objetivos particulares**\n",
    "\n",
    "* Armar un modelo predictivo de datos capaz de dar resultados certeros a partir de análisis clínicos de bajo costo.\n",
    "\n",
    "* Publicar resultados, con el fin de contribuir con un sistema de fácil implementación, que complemente el diagnóstico tradicional para la detección temprana de las ECV.\n",
    "\n",
    "### **Preguntas de investigación** \n",
    "\n",
    "* ¿Cómo son en términos de edad, peso,género etc., los pacientes que padecen ECVs?\n",
    "\n",
    "* ¿Qué sucede con la probabilidad de padecer ECV teniendo en cuentas las variables mencionadas ?\n",
    "\n",
    "* ¿Cuál/es son las variables que impactan con mayor fuerza en la probabilidad de padecer una ECV?\n",
    "\n",
    "### **Equipo de trabajo**\n",
    "\n",
    "  - Matías Herrera\n",
    "\n",
    "### **Fuente del dataset** \n",
    "\n",
    "Agradecemos la enorme labor de recopilación de datos llevada a cabo por Médicos Sin Fronteras, el American Heart Association y el Detusch Herzzentrum München. La base de datos que nuestros socios han generado colaborativamente fue publicada en el sitio Kaggle:\n",
    "*https://www.kaggle.com/datasets/sulianova/cardiovascular-disease-dataset*"
   ]
  }
 ],
 "metadata": {
  "kernelspec": {
   "display_name": "Python 3",
   "language": "python",
   "name": "python3"
  },
  "language_info": {
   "name": "python",
   "version": "3.10.4"
  },
  "orig_nbformat": 4,
  "vscode": {
   "interpreter": {
    "hash": "3ad933181bd8a04b432d3370b9dc3b0662ad032c4dfaa4e4f1596c548f763858"
   }
  }
 },
 "nbformat": 4,
 "nbformat_minor": 2
}

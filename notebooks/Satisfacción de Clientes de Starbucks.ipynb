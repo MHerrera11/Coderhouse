{
 "cells": [
  {
   "attachments": {},
   "cell_type": "markdown",
   "metadata": {},
   "source": [
    "# Satisfacción de Clientes de Starbucks"
   ]
  },
  {
   "attachments": {},
   "cell_type": "markdown",
   "metadata": {},
   "source": [
    "### **Presentación del problema específico**\n",
    "\n",
    "A pesar de ser una de las marcas de café más reconocidas a nivel mundial, Starbucks también enfrenta desafíos en la satisfacción del cliente. Algunos de los problemas más comunes incluyen demoras en el servicio y problemas con la calidad de los productos, su personalización y los precios elevados. Además de tener problemas con la experiencia en tienda y con la tecnología que afecten la satisfacción del cliente.\n",
    "\n",
    "Para abordar estos problemas y mejorar la satisfacción del cliente, Starbucks debe estar comprometido con la mejora continua de su servicio y productos, así como con la escucha activa y la respuesta a las necesidades y preocupaciones de sus clientes.\n",
    "> ##### **Fuentes: https://acortar.link/hLD1Ij**\n",
    "\n",
    "\n",
    "### **Preguntas y objetivos de la investigación**\n",
    "\n",
    "**Objetivos general**\n",
    "\n",
    "puede ser utilizado para comparar la satisfacción del cliente de Starbucks con la de sus competidores y para identificar tendencias y patrones en la satisfacción del cliente a lo largo del tiempo.\n",
    "\n",
    "**Objetivos particulares**\n",
    "\n",
    "* Identificar tendencias en la satisfacción del cliente a lo largo del tiempo e identificar patrones en las percepciones y comportamientos de los clientes.\n",
    "\n",
    "* Determinar la satisfacción de los clientes con la calidad de los productos de Starbucks, incluyendo su sabor, frescura y presentación.\n",
    "\n",
    "### **Preguntas de investigación** \n",
    "\n",
    "* ¿Cuáles son las percepciones de los clientes sobre la calidad de los productos de Starbucks?\n",
    "\n",
    "* ¿Qué aspectos del ambiente en tienda son más valorados por los clientes?\n",
    "\n",
    "* ¿Ha habido un cambio en la satisfacción del cliente a lo largo del tiempo y, si es así, qué factores pueden haber influido en este cambio?\n",
    "\n",
    "### **Equipo de trabajo**\n",
    "\n",
    "  - Matías Herrera\n",
    "\n",
    "### **Fuente del dataset** \n",
    "\n",
    "Este dataset fue sumuinistrado por Starbucks para simular a sus clientes y transacciones con el fin de ver si existen mejores enfoques para enviar promociones específicas a los clientes siendo publicada en el sitio Kaggle:\n",
    "*https://acortar.link/2htDp6*"
   ]
  }
 ],
 "metadata": {
  "kernelspec": {
   "display_name": "Python 3",
   "language": "python",
   "name": "python3"
  },
  "language_info": {
   "name": "python",
   "version": "3.10.4"
  },
  "orig_nbformat": 4,
  "vscode": {
   "interpreter": {
    "hash": "3ad933181bd8a04b432d3370b9dc3b0662ad032c4dfaa4e4f1596c548f763858"
   }
  }
 },
 "nbformat": 4,
 "nbformat_minor": 2
}

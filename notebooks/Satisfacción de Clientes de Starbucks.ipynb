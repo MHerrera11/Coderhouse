{
 "cells": [
  {
   "attachments": {},
   "cell_type": "markdown",
   "metadata": {},
   "source": [
    "# Satisfacción de Clientes de Starbucks"
   ]
  },
  {
   "attachments": {},
   "cell_type": "markdown",
   "metadata": {},
   "source": [
    "### **Presentación del problema específico**\n",
    "\n",
    "A pesar de ser una de las marcas de café más reconocidas a nivel mundial, Starbucks también enfrenta desafíos en la satisfacción del cliente. Algunos de los problemas más comunes incluyen demoras en el servicio y problemas con la calidad de los productos, su personalización y los precios elevados. Además de tener problemas con la experiencia en tienda y con la tecnología que afecten la satisfacción del cliente.\n",
    "\n",
    "Para abordar estos problemas y mejorar la satisfacción del cliente, Starbucks debe estar comprometido con la mejora continua de su servicio y productos, así como con la escucha activa y la respuesta a las necesidades y preocupaciones de sus clientes.\n",
    "> ##### **Fuentes: https://acortar.link/hLD1Ij**\n",
    "\n",
    "\n",
    "### **Preguntas y objetivos de la investigación**\n",
    "\n",
    "**Objetivos general**\n",
    "\n",
    "puede ser utilizado para comparar la satisfacción del cliente de Starbucks con la de sus competidores y para identificar tendencias y patrones en la satisfacción del cliente a lo largo del tiempo.\n",
    "\n",
    "**Objetivos particulares**\n",
    "\n",
    "* Identificar tendencias en la satisfacción del cliente a lo largo del tiempo e identificar patrones en las percepciones y comportamientos de los clientes.\n",
    "\n",
    "* Determinar la satisfacción de los clientes con la calidad de los productos de Starbucks, incluyendo su sabor, frescura y presentación.\n",
    "\n",
    "### **Preguntas de investigación** \n",
    "\n",
    "* ¿Cuáles son las percepciones de los clientes sobre la calidad de los productos de Starbucks?\n",
    "\n",
    "* ¿Qué aspectos del ambiente en tienda son más valorados por los clientes?\n",
    "\n",
    "* ¿Ha habido un cambio en la satisfacción del cliente a lo largo del tiempo y, si es así, qué factores pueden haber influido en este cambio?\n",
    "\n",
    "### **Equipo de trabajo**\n",
    "\n",
    "  - Matías Herrera\n",
    "\n",
    "### **Fuente del dataset** \n",
    "\n",
    "Este dataset fue sumuinistrado por Starbucks para simular a sus clientes y transacciones con el fin de ver si existen mejores enfoques para enviar promociones específicas a los clientes siendo publicada en el sitio Kaggle:\n",
    "*https://acortar.link/2htDp6*"
   ]
  },
  {
   "attachments": {},
   "cell_type": "markdown",
   "metadata": {},
   "source": [
    "### **Exploración de Datos**\n",
    "\n",
    "**Hay dos tipos de características de entrada:**\n",
    "* Objetivo: información fáctica;\n",
    "* Descriptivo: información de descripción\n",
    "\n",
    "| Parametro | Tipo de dato | Variable      | Tipo Valor |\n",
    "|---------|--------------|---------------|------------|\n",
    "| Slug | Descriptivo | id | text |\n",
    "| Symbol | Descriptivo | symbol | text |\n",
    "| Name | Descriptivo | name | text |\n",
    "| Date | Objetivo | date | text |\n",
    "| Ranknow | Objetivo | ranknow | float |\n",
    "| Open Price | Objetivo | open_price | float |\n",
    "| High Price | Objetivo | high_price | float |\n",
    "| Low Price | Objetivo | low_price | float |\n",
    "| Close Price | Objetivo | close_price | float |\n",
    "| Volume | Objetivo | volume | float |\n",
    "| Market | Objetivo | market | int |\n",
    "| Close Ratio | Objetivo | close_ratio | float |\n",
    "| Spread | Objetivo | spread | float |"
   ]
  },
  {
   "cell_type": "code",
   "execution_count": 1,
   "metadata": {},
   "outputs": [],
   "source": [
    "# Importar librerias\n",
    "import pandas as pd\n",
    "import numpy as np\n",
    "import matplotlib.pyplot as plt\n",
    "import matplotlib.patches as Rectangle\n",
    "\n",
    "# Setear para que los gráficos se muestren dentro del mismo notebook:\n",
    "%matplotlib inline\n",
    "\n",
    "# Mostrar los números con 2 decimales\n",
    "pd.options.display.float_format = '{:,.2f}'.format"
   ]
  },
  {
   "cell_type": "code",
   "execution_count": 2,
   "metadata": {},
   "outputs": [],
   "source": [
    "# Importar el dataset por medio de un repositorio de Github\n",
    "\n",
    "df = pd.read_csv('/home/codespace/.ipython/profile_default/Coderhouse1/data/Satisfacción de Clientes de Starbucks.csv')"
   ]
  },
  {
   "cell_type": "code",
   "execution_count": 3,
   "metadata": {},
   "outputs": [
    {
     "data": {
      "text/html": [
       "<div>\n",
       "<style scoped>\n",
       "    .dataframe tbody tr th:only-of-type {\n",
       "        vertical-align: middle;\n",
       "    }\n",
       "\n",
       "    .dataframe tbody tr th {\n",
       "        vertical-align: top;\n",
       "    }\n",
       "\n",
       "    .dataframe thead th {\n",
       "        text-align: right;\n",
       "    }\n",
       "</style>\n",
       "<table border=\"1\" class=\"dataframe\">\n",
       "  <thead>\n",
       "    <tr style=\"text-align: right;\">\n",
       "      <th></th>\n",
       "      <th>Unnamed: 0</th>\n",
       "      <th>gender</th>\n",
       "      <th>age</th>\n",
       "      <th>id</th>\n",
       "      <th>became_member_on</th>\n",
       "      <th>income</th>\n",
       "    </tr>\n",
       "  </thead>\n",
       "  <tbody>\n",
       "    <tr>\n",
       "      <th>0</th>\n",
       "      <td>0</td>\n",
       "      <td>NaN</td>\n",
       "      <td>118</td>\n",
       "      <td>68be06ca386d4c31939f3a4f0e3dd783</td>\n",
       "      <td>20170212</td>\n",
       "      <td>NaN</td>\n",
       "    </tr>\n",
       "    <tr>\n",
       "      <th>1</th>\n",
       "      <td>1</td>\n",
       "      <td>F</td>\n",
       "      <td>55</td>\n",
       "      <td>0610b486422d4921ae7d2bf64640c50b</td>\n",
       "      <td>20170715</td>\n",
       "      <td>112,000.00</td>\n",
       "    </tr>\n",
       "    <tr>\n",
       "      <th>2</th>\n",
       "      <td>2</td>\n",
       "      <td>NaN</td>\n",
       "      <td>118</td>\n",
       "      <td>38fe809add3b4fcf9315a9694bb96ff5</td>\n",
       "      <td>20180712</td>\n",
       "      <td>NaN</td>\n",
       "    </tr>\n",
       "    <tr>\n",
       "      <th>3</th>\n",
       "      <td>3</td>\n",
       "      <td>F</td>\n",
       "      <td>75</td>\n",
       "      <td>78afa995795e4d85b5d9ceeca43f5fef</td>\n",
       "      <td>20170509</td>\n",
       "      <td>100,000.00</td>\n",
       "    </tr>\n",
       "    <tr>\n",
       "      <th>4</th>\n",
       "      <td>4</td>\n",
       "      <td>NaN</td>\n",
       "      <td>118</td>\n",
       "      <td>a03223e636434f42ac4c3df47e8bac43</td>\n",
       "      <td>20170804</td>\n",
       "      <td>NaN</td>\n",
       "    </tr>\n",
       "    <tr>\n",
       "      <th>...</th>\n",
       "      <td>...</td>\n",
       "      <td>...</td>\n",
       "      <td>...</td>\n",
       "      <td>...</td>\n",
       "      <td>...</td>\n",
       "      <td>...</td>\n",
       "    </tr>\n",
       "    <tr>\n",
       "      <th>16995</th>\n",
       "      <td>16995</td>\n",
       "      <td>F</td>\n",
       "      <td>45</td>\n",
       "      <td>6d5f3a774f3d4714ab0c092238f3a1d7</td>\n",
       "      <td>20180604</td>\n",
       "      <td>54,000.00</td>\n",
       "    </tr>\n",
       "    <tr>\n",
       "      <th>16996</th>\n",
       "      <td>16996</td>\n",
       "      <td>M</td>\n",
       "      <td>61</td>\n",
       "      <td>2cb4f97358b841b9a9773a7aa05a9d77</td>\n",
       "      <td>20180713</td>\n",
       "      <td>72,000.00</td>\n",
       "    </tr>\n",
       "    <tr>\n",
       "      <th>16997</th>\n",
       "      <td>16997</td>\n",
       "      <td>M</td>\n",
       "      <td>49</td>\n",
       "      <td>01d26f638c274aa0b965d24cefe3183f</td>\n",
       "      <td>20170126</td>\n",
       "      <td>73,000.00</td>\n",
       "    </tr>\n",
       "    <tr>\n",
       "      <th>16998</th>\n",
       "      <td>16998</td>\n",
       "      <td>F</td>\n",
       "      <td>83</td>\n",
       "      <td>9dc1421481194dcd9400aec7c9ae6366</td>\n",
       "      <td>20160307</td>\n",
       "      <td>50,000.00</td>\n",
       "    </tr>\n",
       "    <tr>\n",
       "      <th>16999</th>\n",
       "      <td>16999</td>\n",
       "      <td>F</td>\n",
       "      <td>62</td>\n",
       "      <td>e4052622e5ba45a8b96b59aba68cf068</td>\n",
       "      <td>20170722</td>\n",
       "      <td>82,000.00</td>\n",
       "    </tr>\n",
       "  </tbody>\n",
       "</table>\n",
       "<p>17000 rows × 6 columns</p>\n",
       "</div>"
      ],
      "text/plain": [
       "       Unnamed: 0 gender  age                                id  \\\n",
       "0               0    NaN  118  68be06ca386d4c31939f3a4f0e3dd783   \n",
       "1               1      F   55  0610b486422d4921ae7d2bf64640c50b   \n",
       "2               2    NaN  118  38fe809add3b4fcf9315a9694bb96ff5   \n",
       "3               3      F   75  78afa995795e4d85b5d9ceeca43f5fef   \n",
       "4               4    NaN  118  a03223e636434f42ac4c3df47e8bac43   \n",
       "...           ...    ...  ...                               ...   \n",
       "16995       16995      F   45  6d5f3a774f3d4714ab0c092238f3a1d7   \n",
       "16996       16996      M   61  2cb4f97358b841b9a9773a7aa05a9d77   \n",
       "16997       16997      M   49  01d26f638c274aa0b965d24cefe3183f   \n",
       "16998       16998      F   83  9dc1421481194dcd9400aec7c9ae6366   \n",
       "16999       16999      F   62  e4052622e5ba45a8b96b59aba68cf068   \n",
       "\n",
       "       became_member_on     income  \n",
       "0              20170212        NaN  \n",
       "1              20170715 112,000.00  \n",
       "2              20180712        NaN  \n",
       "3              20170509 100,000.00  \n",
       "4              20170804        NaN  \n",
       "...                 ...        ...  \n",
       "16995          20180604  54,000.00  \n",
       "16996          20180713  72,000.00  \n",
       "16997          20170126  73,000.00  \n",
       "16998          20160307  50,000.00  \n",
       "16999          20170722  82,000.00  \n",
       "\n",
       "[17000 rows x 6 columns]"
      ]
     },
     "execution_count": 3,
     "metadata": {},
     "output_type": "execute_result"
    }
   ],
   "source": [
    "df"
   ]
  },
  {
   "attachments": {},
   "cell_type": "markdown",
   "metadata": {},
   "source": [
    "### Datos Duplicados y Nulos"
   ]
  },
  {
   "cell_type": "code",
   "execution_count": 5,
   "metadata": {},
   "outputs": [],
   "source": [
    "# Realizar el drop() de la columan \"Unnamed: 0\" ya que en este caso no aporta ningun dato valioso al análisis a realizar.\n",
    "\n",
    "df.drop(labels = \"Unnamed: 0\", axis = 1, inplace = True)"
   ]
  },
  {
   "cell_type": "code",
   "execution_count": 6,
   "metadata": {},
   "outputs": [
    {
     "name": "stdout",
     "output_type": "stream",
     "text": [
      "Hay en total una cantidad de 4350 datos nulos en el dataset\n"
     ]
    }
   ],
   "source": [
    "# Determinar la cantidad de datos nulos (correspondientes a la última fila)\n",
    "cont_nulos = 0\n",
    "for column in df.columns:\n",
    "  cont_nulos += df[column].isna().sum()\n",
    "\n",
    "print('Hay en total una cantidad de {0} datos nulos en el dataset'.format(cont_nulos))"
   ]
  },
  {
   "cell_type": "code",
   "execution_count": 7,
   "metadata": {},
   "outputs": [
    {
     "name": "stdout",
     "output_type": "stream",
     "text": [
      "El dataset no cuenta con datos duplicados.\n"
     ]
    }
   ],
   "source": [
    "# Determinar la cantidad de datos duplicados\n",
    "cant_duplicados = df.duplicated().sum()\n",
    "if(cant_duplicados):\n",
    "  print('La cantidad de datos duplicados en el dataset es {0}.'.format(cant_duplicados))\n",
    "else:\n",
    "  print('El dataset no cuenta con datos duplicados.')"
   ]
  },
  {
   "cell_type": "code",
   "execution_count": 8,
   "metadata": {},
   "outputs": [
    {
     "name": "stdout",
     "output_type": "stream",
     "text": [
      "Tras haber eliminado los datos duplicados, el dataset cuenta con 17000 entradas.\n"
     ]
    }
   ],
   "source": [
    "print(\"Tras haber eliminado los datos duplicados, el dataset cuenta con {0} entradas.\".format(df.shape[0]))"
   ]
  }
 ],
 "metadata": {
  "kernelspec": {
   "display_name": "Python 3",
   "language": "python",
   "name": "python3"
  },
  "language_info": {
   "codemirror_mode": {
    "name": "ipython",
    "version": 3
   },
   "file_extension": ".py",
   "mimetype": "text/x-python",
   "name": "python",
   "nbconvert_exporter": "python",
   "pygments_lexer": "ipython3",
   "version": "3.10.4"
  },
  "orig_nbformat": 4,
  "vscode": {
   "interpreter": {
    "hash": "3ad933181bd8a04b432d3370b9dc3b0662ad032c4dfaa4e4f1596c548f763858"
   }
  }
 },
 "nbformat": 4,
 "nbformat_minor": 2
}

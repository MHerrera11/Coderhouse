{
 "cells": [
  {
   "attachments": {},
   "cell_type": "markdown",
   "metadata": {},
   "source": [
    "# Satisfacción de Clientes de Vuelos"
   ]
  },
  {
   "attachments": {},
   "cell_type": "markdown",
   "metadata": {},
   "source": [
    "### **Presentación del problema específico**\n",
    "\n",
    "A pesar de los esfuerzos de las compañías aéreas por mejorar la satisfacción del cliente en vuelos, aún existen varias problemáticas que pueden afectar negativamente la experiencia del cliente. Algunos de estos problemas incluyen:\n",
    "\n",
    "* Retrasos y cancelaciones de vuelos: Los retrasos y cancelaciones de vuelos son una de las mayores frustraciones para los viajeros.\n",
    "\n",
    "* Problemas con la reservación: A veces, los clientes pueden tener problemas con sus reservaciones, como cambios de horario o asiento, lo que puede causar frustración y desconfianza.\n",
    "\n",
    "* Comodidad limitada: Aunque las compañías aéreas han mejorado la calidad de los asientos en sus aviones, todavía hay muchas quejas sobre el espacio limitado y la incomodidad.\n",
    "\n",
    "* Servicio al cliente ineficiente: A veces, los representantes de atención al cliente pueden ser poco amables o ineficientes en el manejo de problemas y peticiones de los clientes.\n",
    "\n",
    "* Problemas con el equipaje: Los problemas con el equipaje, como la pérdida o el daño, son otra fuente común de frustración para los viajeros.\n",
    "\n",
    "* Falta de opciones de entretenimiento: Algunos clientes pueden sentir que las opciones de entretenimiento a bordo son limitadas o anticuadas.\n",
    "\n",
    "* Inseguridad en vuelo: Aunque los vuelos son generalmente seguros, la inseguridad en vuelo puede ser una preocupación para algunos clientes.\n",
    "\n",
    "Para abordar estos problemas y mejorar la satisfacción del cliente en vuelos, las compañías aéreas deben estar comprometidas con la mejora continua de sus procesos y servicios. Al lograr una satisfacción del cliente óptima, las compañías aéreas también pueden mejorar su reputación y competitividad en un mercado altamente competitivo, lo que conduce a un crecimiento sostenible y rentable.\n",
    "\n",
    "> ##### **Fuentes: https://acortar.link/eqZXHa**\n",
    "\n",
    "\n",
    "### **Preguntas y objetivos de la investigación**\n",
    "\n",
    "**Objetivos general**\n",
    "\n",
    "El objetivo final es crear una base de clientes leales que se sientan valorados y satisfechos con el servicio de la compañía aérea, lo que conduce a un aumento de la lealtad y la retención de clientes, así como a una mayor tasa de recomendaciones positivas. \n",
    "\n",
    "**Objetivos particulares**\n",
    "\n",
    "* Armar un modelo lineal de datos capaz de dar resultados sobre la satisfacción del cliente con los menores servicios prestados (para una minimización de costos).\n",
    "\n",
    "* Publicar resultados, con el fin de obtener una nueva base de datos con clientes satisfechos.\n",
    "\n",
    "### **Preguntas de investigación** \n",
    "\n",
    "* ¿Cómo son en términos de edad, género, etc., los pasajeros que vuelan en la aerolínea?\n",
    "\n",
    "* ¿Qué servicios en proporción son los más redituables para el pasajero?\n",
    "\n",
    "* ¿Que combinación mínima de servicios hacen una pasajero satisfecho?\n",
    "\n",
    "### **Equipo de trabajo**\n",
    "\n",
    "  - Matías Herrera\n",
    "\n",
    "### **Fuente del dataset** \n",
    "\n",
    "Airline Passenger Satisfaction en el sitio Kaggle:\n",
    "*https://acortar.link/mVFJLX*"
   ]
  },
  {
   "attachments": {},
   "cell_type": "markdown",
   "metadata": {},
   "source": [
    "### **Exploración de Datos**\n",
    "\n",
    "**Hay dos tipos de características de entrada:**\n",
    "* Objetivo: información fáctica;\n",
    "* Descriptivo: información de descripción\n",
    "* Subjetivo: opinión del cliente\n",
    "\n",
    "| Parametro | Tipo de Dato | Variable | Tipo Valor |\n",
    "|---------|--------------|---------------|------------|\n",
    "| Index | Descriptivo | Unnamed: 0 | int |\n",
    "| Id | Descriptivo | id | int |\n",
    "| Género | Descriptivo | Gender | char |\n",
    "| Tipo de Cliente | Descriptivo | Customer_Type | char |\n",
    "| Edad | Descriptivo | Age | int |\n",
    "| Tipo de Viaje | Descriptivo | Type_of_Travel | char |\n",
    "| Clase | Descriptivo | Class | char |\n",
    "| Distancia de Vuelo | Objetivo | Flight_Distance | int |\n",
    "| Servicio de WI-FI Interno | Subjetivo | Inflight_wifi_service | int |\n",
    "| Hora de Salida/Llegada conveniente | Subjetivo | Departure/Arrival_time_convenient | int |\n",
    "| Facilidad de Reserva en Línea | Subjetivo | Ease_of_Online_booking | int |\n",
    "| Ubicación de la Puerta | Subjetivo | Gate_location | int |\n",
    "| Comida y Bebida | Subjetivo | Food_and_drink | int |\n",
    "| Online Boarding | Subjetivo | Online_boarding | int |\n",
    "| Confort del Asiento | Subjetivo | Seat_comfort | int |\n",
    "| Entretenimiento en el Vuelo | Subjetivo | Inflight_entertainment | int |\n",
    "| Servicio a Bordo | Subjetivo | On-board_service | int |\n",
    "| Servicio de Sala de Piernas | Subjetivo | Leg_room_service | int |\n",
    "| Manejo de Equipaje | Subjetivo | Baggage_handling | int |\n",
    "| Servicio de Facturación | Subjetivo | Checkin_service | int |\n",
    "| Servicio a Bordo en Vuelo | Subjetivo | Inflight_service | int |\n",
    "| Limpieza | Subjetivo | Cleanliness | int |\n",
    "| Retraso de Salida en Minutos | Objetivo | Departure_Delay_in_Minutes | int |\n",
    "| Retraso de Llegada en Minutos | Objetivo | Arrival_Delay_in_Minutes | int |\n",
    "| Satisfacción | Subjetivo | satisfaction | char |"
   ]
  },
  {
   "cell_type": "code",
   "execution_count": 339,
   "metadata": {},
   "outputs": [],
   "source": [
    "# Importar librerias\n",
    "import pandas as pd\n",
    "import numpy as np\n",
    "import matplotlib as mpl\n",
    "import matplotlib.pyplot as plt\n",
    "import matplotlib.patches as Rectangle\n",
    "import seaborn as sns\n",
    "import plotly.express as px\n",
    "import colorsys\n",
    "\n",
    "# Setear para que los gráficos se muestren dentro del mismo notebook:\n",
    "%matplotlib inline\n",
    "\n",
    "# Mostrar los números con 2 decimales\n",
    "pd.options.display.float_format = '{:,.2f}'.format"
   ]
  },
  {
   "cell_type": "code",
   "execution_count": 340,
   "metadata": {},
   "outputs": [],
   "source": [
    "# Importar el dataset por medio de un repositorio de Github\n",
    "\n",
    "df = pd.read_csv('/home/codespace/.ipython/profile_default/Coderhouse1/data/Test Satisfacción de Clientes de Vuelo.csv')"
   ]
  },
  {
   "cell_type": "code",
   "execution_count": 341,
   "metadata": {},
   "outputs": [
    {
     "data": {
      "text/html": [
       "<div>\n",
       "<style scoped>\n",
       "    .dataframe tbody tr th:only-of-type {\n",
       "        vertical-align: middle;\n",
       "    }\n",
       "\n",
       "    .dataframe tbody tr th {\n",
       "        vertical-align: top;\n",
       "    }\n",
       "\n",
       "    .dataframe thead th {\n",
       "        text-align: right;\n",
       "    }\n",
       "</style>\n",
       "<table border=\"1\" class=\"dataframe\">\n",
       "  <thead>\n",
       "    <tr style=\"text-align: right;\">\n",
       "      <th></th>\n",
       "      <th>Unnamed: 0</th>\n",
       "      <th>id</th>\n",
       "      <th>Gender</th>\n",
       "      <th>Customer Type</th>\n",
       "      <th>Age</th>\n",
       "      <th>Type of Travel</th>\n",
       "      <th>Class</th>\n",
       "      <th>Flight Distance</th>\n",
       "      <th>Inflight wifi service</th>\n",
       "      <th>Departure/Arrival time convenient</th>\n",
       "      <th>...</th>\n",
       "      <th>Inflight entertainment</th>\n",
       "      <th>On-board service</th>\n",
       "      <th>Leg room service</th>\n",
       "      <th>Baggage handling</th>\n",
       "      <th>Checkin service</th>\n",
       "      <th>Inflight service</th>\n",
       "      <th>Cleanliness</th>\n",
       "      <th>Departure Delay in Minutes</th>\n",
       "      <th>Arrival Delay in Minutes</th>\n",
       "      <th>satisfaction</th>\n",
       "    </tr>\n",
       "  </thead>\n",
       "  <tbody>\n",
       "    <tr>\n",
       "      <th>0</th>\n",
       "      <td>0</td>\n",
       "      <td>19556</td>\n",
       "      <td>Female</td>\n",
       "      <td>Loyal Customer</td>\n",
       "      <td>52</td>\n",
       "      <td>Business travel</td>\n",
       "      <td>Eco</td>\n",
       "      <td>160</td>\n",
       "      <td>5</td>\n",
       "      <td>4</td>\n",
       "      <td>...</td>\n",
       "      <td>5</td>\n",
       "      <td>5</td>\n",
       "      <td>5</td>\n",
       "      <td>5</td>\n",
       "      <td>2</td>\n",
       "      <td>5</td>\n",
       "      <td>5</td>\n",
       "      <td>50</td>\n",
       "      <td>44.00</td>\n",
       "      <td>satisfied</td>\n",
       "    </tr>\n",
       "    <tr>\n",
       "      <th>1</th>\n",
       "      <td>1</td>\n",
       "      <td>90035</td>\n",
       "      <td>Female</td>\n",
       "      <td>Loyal Customer</td>\n",
       "      <td>36</td>\n",
       "      <td>Business travel</td>\n",
       "      <td>Business</td>\n",
       "      <td>2863</td>\n",
       "      <td>1</td>\n",
       "      <td>1</td>\n",
       "      <td>...</td>\n",
       "      <td>4</td>\n",
       "      <td>4</td>\n",
       "      <td>4</td>\n",
       "      <td>4</td>\n",
       "      <td>3</td>\n",
       "      <td>4</td>\n",
       "      <td>5</td>\n",
       "      <td>0</td>\n",
       "      <td>0.00</td>\n",
       "      <td>satisfied</td>\n",
       "    </tr>\n",
       "    <tr>\n",
       "      <th>2</th>\n",
       "      <td>2</td>\n",
       "      <td>12360</td>\n",
       "      <td>Male</td>\n",
       "      <td>disloyal Customer</td>\n",
       "      <td>20</td>\n",
       "      <td>Business travel</td>\n",
       "      <td>Eco</td>\n",
       "      <td>192</td>\n",
       "      <td>2</td>\n",
       "      <td>0</td>\n",
       "      <td>...</td>\n",
       "      <td>2</td>\n",
       "      <td>4</td>\n",
       "      <td>1</td>\n",
       "      <td>3</td>\n",
       "      <td>2</td>\n",
       "      <td>2</td>\n",
       "      <td>2</td>\n",
       "      <td>0</td>\n",
       "      <td>0.00</td>\n",
       "      <td>neutral or dissatisfied</td>\n",
       "    </tr>\n",
       "    <tr>\n",
       "      <th>3</th>\n",
       "      <td>3</td>\n",
       "      <td>77959</td>\n",
       "      <td>Male</td>\n",
       "      <td>Loyal Customer</td>\n",
       "      <td>44</td>\n",
       "      <td>Business travel</td>\n",
       "      <td>Business</td>\n",
       "      <td>3377</td>\n",
       "      <td>0</td>\n",
       "      <td>0</td>\n",
       "      <td>...</td>\n",
       "      <td>1</td>\n",
       "      <td>1</td>\n",
       "      <td>1</td>\n",
       "      <td>1</td>\n",
       "      <td>3</td>\n",
       "      <td>1</td>\n",
       "      <td>4</td>\n",
       "      <td>0</td>\n",
       "      <td>6.00</td>\n",
       "      <td>satisfied</td>\n",
       "    </tr>\n",
       "    <tr>\n",
       "      <th>4</th>\n",
       "      <td>4</td>\n",
       "      <td>36875</td>\n",
       "      <td>Female</td>\n",
       "      <td>Loyal Customer</td>\n",
       "      <td>49</td>\n",
       "      <td>Business travel</td>\n",
       "      <td>Eco</td>\n",
       "      <td>1182</td>\n",
       "      <td>2</td>\n",
       "      <td>3</td>\n",
       "      <td>...</td>\n",
       "      <td>2</td>\n",
       "      <td>2</td>\n",
       "      <td>2</td>\n",
       "      <td>2</td>\n",
       "      <td>4</td>\n",
       "      <td>2</td>\n",
       "      <td>4</td>\n",
       "      <td>0</td>\n",
       "      <td>20.00</td>\n",
       "      <td>satisfied</td>\n",
       "    </tr>\n",
       "    <tr>\n",
       "      <th>...</th>\n",
       "      <td>...</td>\n",
       "      <td>...</td>\n",
       "      <td>...</td>\n",
       "      <td>...</td>\n",
       "      <td>...</td>\n",
       "      <td>...</td>\n",
       "      <td>...</td>\n",
       "      <td>...</td>\n",
       "      <td>...</td>\n",
       "      <td>...</td>\n",
       "      <td>...</td>\n",
       "      <td>...</td>\n",
       "      <td>...</td>\n",
       "      <td>...</td>\n",
       "      <td>...</td>\n",
       "      <td>...</td>\n",
       "      <td>...</td>\n",
       "      <td>...</td>\n",
       "      <td>...</td>\n",
       "      <td>...</td>\n",
       "      <td>...</td>\n",
       "    </tr>\n",
       "    <tr>\n",
       "      <th>25971</th>\n",
       "      <td>25971</td>\n",
       "      <td>78463</td>\n",
       "      <td>Male</td>\n",
       "      <td>disloyal Customer</td>\n",
       "      <td>34</td>\n",
       "      <td>Business travel</td>\n",
       "      <td>Business</td>\n",
       "      <td>526</td>\n",
       "      <td>3</td>\n",
       "      <td>3</td>\n",
       "      <td>...</td>\n",
       "      <td>4</td>\n",
       "      <td>3</td>\n",
       "      <td>2</td>\n",
       "      <td>4</td>\n",
       "      <td>4</td>\n",
       "      <td>5</td>\n",
       "      <td>4</td>\n",
       "      <td>0</td>\n",
       "      <td>0.00</td>\n",
       "      <td>neutral or dissatisfied</td>\n",
       "    </tr>\n",
       "    <tr>\n",
       "      <th>25972</th>\n",
       "      <td>25972</td>\n",
       "      <td>71167</td>\n",
       "      <td>Male</td>\n",
       "      <td>Loyal Customer</td>\n",
       "      <td>23</td>\n",
       "      <td>Business travel</td>\n",
       "      <td>Business</td>\n",
       "      <td>646</td>\n",
       "      <td>4</td>\n",
       "      <td>4</td>\n",
       "      <td>...</td>\n",
       "      <td>4</td>\n",
       "      <td>4</td>\n",
       "      <td>5</td>\n",
       "      <td>5</td>\n",
       "      <td>5</td>\n",
       "      <td>5</td>\n",
       "      <td>4</td>\n",
       "      <td>0</td>\n",
       "      <td>0.00</td>\n",
       "      <td>satisfied</td>\n",
       "    </tr>\n",
       "    <tr>\n",
       "      <th>25973</th>\n",
       "      <td>25973</td>\n",
       "      <td>37675</td>\n",
       "      <td>Female</td>\n",
       "      <td>Loyal Customer</td>\n",
       "      <td>17</td>\n",
       "      <td>Personal Travel</td>\n",
       "      <td>Eco</td>\n",
       "      <td>828</td>\n",
       "      <td>2</td>\n",
       "      <td>5</td>\n",
       "      <td>...</td>\n",
       "      <td>2</td>\n",
       "      <td>4</td>\n",
       "      <td>3</td>\n",
       "      <td>4</td>\n",
       "      <td>5</td>\n",
       "      <td>4</td>\n",
       "      <td>2</td>\n",
       "      <td>0</td>\n",
       "      <td>0.00</td>\n",
       "      <td>neutral or dissatisfied</td>\n",
       "    </tr>\n",
       "    <tr>\n",
       "      <th>25974</th>\n",
       "      <td>25974</td>\n",
       "      <td>90086</td>\n",
       "      <td>Male</td>\n",
       "      <td>Loyal Customer</td>\n",
       "      <td>14</td>\n",
       "      <td>Business travel</td>\n",
       "      <td>Business</td>\n",
       "      <td>1127</td>\n",
       "      <td>3</td>\n",
       "      <td>3</td>\n",
       "      <td>...</td>\n",
       "      <td>4</td>\n",
       "      <td>3</td>\n",
       "      <td>2</td>\n",
       "      <td>5</td>\n",
       "      <td>4</td>\n",
       "      <td>5</td>\n",
       "      <td>4</td>\n",
       "      <td>0</td>\n",
       "      <td>0.00</td>\n",
       "      <td>satisfied</td>\n",
       "    </tr>\n",
       "    <tr>\n",
       "      <th>25975</th>\n",
       "      <td>25975</td>\n",
       "      <td>34799</td>\n",
       "      <td>Female</td>\n",
       "      <td>Loyal Customer</td>\n",
       "      <td>42</td>\n",
       "      <td>Personal Travel</td>\n",
       "      <td>Eco</td>\n",
       "      <td>264</td>\n",
       "      <td>2</td>\n",
       "      <td>5</td>\n",
       "      <td>...</td>\n",
       "      <td>1</td>\n",
       "      <td>1</td>\n",
       "      <td>2</td>\n",
       "      <td>1</td>\n",
       "      <td>1</td>\n",
       "      <td>1</td>\n",
       "      <td>1</td>\n",
       "      <td>0</td>\n",
       "      <td>0.00</td>\n",
       "      <td>neutral or dissatisfied</td>\n",
       "    </tr>\n",
       "  </tbody>\n",
       "</table>\n",
       "<p>25976 rows × 25 columns</p>\n",
       "</div>"
      ],
      "text/plain": [
       "       Unnamed: 0     id  Gender      Customer Type  Age   Type of Travel  \\\n",
       "0               0  19556  Female     Loyal Customer   52  Business travel   \n",
       "1               1  90035  Female     Loyal Customer   36  Business travel   \n",
       "2               2  12360    Male  disloyal Customer   20  Business travel   \n",
       "3               3  77959    Male     Loyal Customer   44  Business travel   \n",
       "4               4  36875  Female     Loyal Customer   49  Business travel   \n",
       "...           ...    ...     ...                ...  ...              ...   \n",
       "25971       25971  78463    Male  disloyal Customer   34  Business travel   \n",
       "25972       25972  71167    Male     Loyal Customer   23  Business travel   \n",
       "25973       25973  37675  Female     Loyal Customer   17  Personal Travel   \n",
       "25974       25974  90086    Male     Loyal Customer   14  Business travel   \n",
       "25975       25975  34799  Female     Loyal Customer   42  Personal Travel   \n",
       "\n",
       "          Class  Flight Distance  Inflight wifi service  \\\n",
       "0           Eco              160                      5   \n",
       "1      Business             2863                      1   \n",
       "2           Eco              192                      2   \n",
       "3      Business             3377                      0   \n",
       "4           Eco             1182                      2   \n",
       "...         ...              ...                    ...   \n",
       "25971  Business              526                      3   \n",
       "25972  Business              646                      4   \n",
       "25973       Eco              828                      2   \n",
       "25974  Business             1127                      3   \n",
       "25975       Eco              264                      2   \n",
       "\n",
       "       Departure/Arrival time convenient  ...  Inflight entertainment  \\\n",
       "0                                      4  ...                       5   \n",
       "1                                      1  ...                       4   \n",
       "2                                      0  ...                       2   \n",
       "3                                      0  ...                       1   \n",
       "4                                      3  ...                       2   \n",
       "...                                  ...  ...                     ...   \n",
       "25971                                  3  ...                       4   \n",
       "25972                                  4  ...                       4   \n",
       "25973                                  5  ...                       2   \n",
       "25974                                  3  ...                       4   \n",
       "25975                                  5  ...                       1   \n",
       "\n",
       "       On-board service  Leg room service  Baggage handling  Checkin service  \\\n",
       "0                     5                 5                 5                2   \n",
       "1                     4                 4                 4                3   \n",
       "2                     4                 1                 3                2   \n",
       "3                     1                 1                 1                3   \n",
       "4                     2                 2                 2                4   \n",
       "...                 ...               ...               ...              ...   \n",
       "25971                 3                 2                 4                4   \n",
       "25972                 4                 5                 5                5   \n",
       "25973                 4                 3                 4                5   \n",
       "25974                 3                 2                 5                4   \n",
       "25975                 1                 2                 1                1   \n",
       "\n",
       "       Inflight service  Cleanliness  Departure Delay in Minutes  \\\n",
       "0                     5            5                          50   \n",
       "1                     4            5                           0   \n",
       "2                     2            2                           0   \n",
       "3                     1            4                           0   \n",
       "4                     2            4                           0   \n",
       "...                 ...          ...                         ...   \n",
       "25971                 5            4                           0   \n",
       "25972                 5            4                           0   \n",
       "25973                 4            2                           0   \n",
       "25974                 5            4                           0   \n",
       "25975                 1            1                           0   \n",
       "\n",
       "       Arrival Delay in Minutes             satisfaction  \n",
       "0                         44.00                satisfied  \n",
       "1                          0.00                satisfied  \n",
       "2                          0.00  neutral or dissatisfied  \n",
       "3                          6.00                satisfied  \n",
       "4                         20.00                satisfied  \n",
       "...                         ...                      ...  \n",
       "25971                      0.00  neutral or dissatisfied  \n",
       "25972                      0.00                satisfied  \n",
       "25973                      0.00  neutral or dissatisfied  \n",
       "25974                      0.00                satisfied  \n",
       "25975                      0.00  neutral or dissatisfied  \n",
       "\n",
       "[25976 rows x 25 columns]"
      ]
     },
     "execution_count": 341,
     "metadata": {},
     "output_type": "execute_result"
    }
   ],
   "source": [
    "df"
   ]
  },
  {
   "attachments": {},
   "cell_type": "markdown",
   "metadata": {},
   "source": [
    "### Datos Duplicados y Nulos y Otras Modificaciones"
   ]
  },
  {
   "cell_type": "code",
   "execution_count": 342,
   "metadata": {},
   "outputs": [],
   "source": [
    "# Agregarle Mayus al valor 'disloyal Customer' en la columna 'Customer Type'\n",
    "df['Customer Type'] = df['Customer Type'].replace('disloyal Customer', 'Disloyal Customer')"
   ]
  },
  {
   "cell_type": "code",
   "execution_count": 343,
   "metadata": {},
   "outputs": [],
   "source": [
    "# Realizar el drop() de la columna \"Unnamed: 0\" ya que en este caso no aporta ningun dato valioso al análisis a realizar.\n",
    "\n",
    "df.drop(labels = \"Unnamed: 0\", axis = 1, inplace = True)"
   ]
  },
  {
   "cell_type": "code",
   "execution_count": 344,
   "metadata": {},
   "outputs": [
    {
     "name": "stdout",
     "output_type": "stream",
     "text": [
      "Hay en total una cantidad de 83 datos nulos en el dataset\n"
     ]
    }
   ],
   "source": [
    "# Determinar la cantidad de datos nulos (correspondientes a la última fila)\n",
    "cont_nulos = 0\n",
    "for column in df.columns:\n",
    "  cont_nulos += df[column].isna().sum()\n",
    "\n",
    "print('Hay en total una cantidad de {0} datos nulos en el dataset'.format(cont_nulos))"
   ]
  },
  {
   "cell_type": "code",
   "execution_count": 345,
   "metadata": {},
   "outputs": [
    {
     "name": "stdout",
     "output_type": "stream",
     "text": [
      "El dataset no cuenta con datos duplicados.\n"
     ]
    }
   ],
   "source": [
    "# Determinar la cantidad de datos duplicados\n",
    "cant_duplicados = df.duplicated().sum()\n",
    "if(cant_duplicados):\n",
    "  print('La cantidad de datos duplicados en el dataset es {0}.'.format(cant_duplicados))\n",
    "else:\n",
    "  print('El dataset no cuenta con datos duplicados.')"
   ]
  },
  {
   "cell_type": "code",
   "execution_count": 346,
   "metadata": {},
   "outputs": [
    {
     "name": "stdout",
     "output_type": "stream",
     "text": [
      "Tras haber eliminado los datos duplicados, el dataset cuenta con 25976 entradas.\n"
     ]
    }
   ],
   "source": [
    "print(\"Tras haber eliminado los datos duplicados, el dataset cuenta con {0} entradas.\".format(df.shape[0]))"
   ]
  },
  {
   "attachments": {},
   "cell_type": "markdown",
   "metadata": {},
   "source": [
    "## Análsis Univariado del DataSet"
   ]
  },
  {
   "attachments": {},
   "cell_type": "markdown",
   "metadata": {},
   "source": [
    "### Variable Customer Type\n",
    "\n",
    "La variable \"Customer Type\" identifica la fidelidad o no del cliente. "
   ]
  },
  {
   "attachments": {},
   "cell_type": "markdown",
   "metadata": {},
   "source": [
    "### Análsis:"
   ]
  },
  {
   "cell_type": "code",
   "execution_count": 347,
   "metadata": {},
   "outputs": [
    {
     "data": {
      "text/plain": [
       "dtype('O')"
      ]
     },
     "execution_count": 347,
     "metadata": {},
     "output_type": "execute_result"
    }
   ],
   "source": [
    "# Tipo de variable\n",
    "df[\"Customer Type\"].dtype"
   ]
  },
  {
   "cell_type": "code",
   "execution_count": 348,
   "metadata": {},
   "outputs": [
    {
     "data": {
      "text/plain": [
       "count              25976\n",
       "unique                 2\n",
       "top       Loyal Customer\n",
       "freq               21177\n",
       "Name: Customer Type, dtype: object"
      ]
     },
     "execution_count": 348,
     "metadata": {},
     "output_type": "execute_result"
    }
   ],
   "source": [
    "# Estadísticas Generales\n",
    "df[\"Customer Type\"].describe()"
   ]
  },
  {
   "cell_type": "code",
   "execution_count": 349,
   "metadata": {},
   "outputs": [
    {
     "name": "stdout",
     "output_type": "stream",
     "text": [
      "Loyal Customer       21177\n",
      "Disloyal Customer     4799\n",
      "Name: Customer Type, dtype: int64\n"
     ]
    }
   ],
   "source": [
    "# Valores distintos \n",
    "counts = df[\"Customer Type\"].value_counts()\n",
    "\n",
    "print(counts)"
   ]
  },
  {
   "cell_type": "code",
   "execution_count": 350,
   "metadata": {},
   "outputs": [],
   "source": [
    "# Calcular los porcentajes de cada valor en la columna\n",
    "porcentajes = df['Customer Type'].value_counts(normalize=True) * 100"
   ]
  },
  {
   "cell_type": "code",
   "execution_count": 351,
   "metadata": {},
   "outputs": [
    {
     "data": {
      "image/png": "[encoded data removed]",
      "text/plain": [
       "<Figure size 640x480 with 1 Axes>"
      ]
     },
     "metadata": {},
     "output_type": "display_data"
    }
   ],
   "source": [
    "# Crear un gráfico de barras del Customer Type\n",
    "colores = ['green', 'red']\n",
    "\n",
    "plt.bar(counts.index, counts, color=colores)\n",
    "plt.title('Registros según variable Customer Type')\n",
    "plt.ylabel('Cantidad')\n",
    "\n",
    "# Agregar etiquetas a cada barra\n",
    "for i, v in enumerate(counts):\n",
    "    plt.text(i, v/2, str(v) + '\\nClientes', ha='center', color='white', fontweight='semibold')"
   ]
  },
  {
   "cell_type": "code",
   "execution_count": 352,
   "metadata": {},
   "outputs": [
    {
     "data": {
      "image/png": "[encoded data removed]",
      "text/plain": [
       "<Figure size 640x480 with 1 Axes>"
      ]
     },
     "metadata": {},
     "output_type": "display_data"
    }
   ],
   "source": [
    "# Crear un gráfico de barras del Customer Type\n",
    "colores = ['green', 'red']\n",
    "\n",
    "plt.bar(porcentajes.index, porcentajes, color=colores)\n",
    "plt.title('Registros medidos en Porcentajes')\n",
    "plt.ylabel('Porcentaje')\n",
    "\n",
    "# Agregar etiquetas de porcentaje a cada barra\n",
    "for i, v in enumerate(porcentajes):\n",
    "    plt.text(i, v/2, '{:.1f}%'.format(v), ha='center', color='white', fontweight='semibold')"
   ]
  }
 ],
 "metadata": {
  "kernelspec": {
   "display_name": "Python 3",
   "language": "python",
   "name": "python3"
  },
  "language_info": {
   "codemirror_mode": {
    "name": "ipython",
    "version": 3
   },
   "file_extension": ".py",
   "mimetype": "text/x-python",
   "name": "python",
   "nbconvert_exporter": "python",
   "pygments_lexer": "ipython3",
   "version": "3.10.4"
  },
  "orig_nbformat": 4,
  "vscode": {
   "interpreter": {
    "hash": "3ad933181bd8a04b432d3370b9dc3b0662ad032c4dfaa4e4f1596c548f763858"
   }
  }
 },
 "nbformat": 4,
 "nbformat_minor": 2
}

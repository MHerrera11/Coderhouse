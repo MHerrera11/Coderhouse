{
 "cells": [
  {
   "attachments": {},
   "cell_type": "markdown",
   "metadata": {},
   "source": [
    "# Satisfacción de Clientes de Vuelos"
   ]
  },
  {
   "attachments": {},
   "cell_type": "markdown",
   "metadata": {},
   "source": [
    "### **Presentación del problema específico**\n",
    "\n",
    "A pesar de los esfuerzos de las compañías aéreas por mejorar la satisfacción del cliente en vuelos, aún existen varias problemáticas que pueden afectar negativamente la experiencia del cliente. Algunos de estos problemas incluyen:\n",
    "\n",
    "* Retrasos y cancelaciones de vuelos: Los retrasos y cancelaciones de vuelos son una de las mayores frustraciones para los viajeros.\n",
    "\n",
    "* Problemas con la reservación: A veces, los clientes pueden tener problemas con sus reservaciones, como cambios de horario o asiento, lo que puede causar frustración y desconfianza.\n",
    "\n",
    "* Comodidad limitada: Aunque las compañías aéreas han mejorado la calidad de los asientos en sus aviones, todavía hay muchas quejas sobre el espacio limitado y la incomodidad.\n",
    "\n",
    "* Servicio al cliente ineficiente: A veces, los representantes de atención al cliente pueden ser poco amables o ineficientes en el manejo de problemas y peticiones de los clientes.\n",
    "\n",
    "* Problemas con el equipaje: Los problemas con el equipaje, como la pérdida o el daño, son otra fuente común de frustración para los viajeros.\n",
    "\n",
    "* Falta de opciones de entretenimiento: Algunos clientes pueden sentir que las opciones de entretenimiento a bordo son limitadas o anticuadas.\n",
    "\n",
    "* Inseguridad en vuelo: Aunque los vuelos son generalmente seguros, la inseguridad en vuelo puede ser una preocupación para algunos clientes.\n",
    "\n",
    "Para abordar estos problemas y mejorar la satisfacción del cliente en vuelos, las compañías aéreas deben estar comprometidas con la mejora continua de sus procesos y servicios. Al lograr una satisfacción del cliente óptima, las compañías aéreas también pueden mejorar su reputación y competitividad en un mercado altamente competitivo, lo que conduce a un crecimiento sostenible y rentable.\n",
    "\n",
    "> ##### **Fuentes: https://acortar.link/eqZXHa**\n",
    "\n",
    "\n",
    "### **Preguntas y objetivos de la investigación**\n",
    "\n",
    "**Objetivos general**\n",
    "\n",
    "El objetivo final es crear una base de clientes leales que se sientan valorados y satisfechos con el servicio de la compañía aérea, lo que conduce a un aumento de la lealtad y la retención de clientes, así como a una mayor tasa de recomendaciones positivas. \n",
    "\n",
    "**Objetivos particulares**\n",
    "\n",
    "* Armar un modelo lineal de datos capaz de dar resultados sobre la satisfacción del cliente con los menores servicios prestados (para una minimización de costos).\n",
    "\n",
    "* Publicar resultados, con el fin de obtener una nueva base de datos con clientes satisfechos.\n",
    "\n",
    "### **Preguntas de investigación** \n",
    "\n",
    "* ¿Cómo son en términos de edad, género, etc., los pasajeros que vuelan en la aerolínea?\n",
    "\n",
    "* ¿Qué servicios en proporción son los más redituables para el pasajero?\n",
    "\n",
    "* ¿Que combinación mínima de servicios hacen una pasajero satisfecho?\n",
    "\n",
    "### **Equipo de trabajo**\n",
    "\n",
    "  - Matías Herrera\n",
    "\n",
    "### **Fuente del dataset** \n",
    "\n",
    "Airline Passenger Satisfaction en el sitio Kaggle:\n",
    "*https://acortar.link/mVFJLX*"
   ]
  },
  {
   "attachments": {},
   "cell_type": "markdown",
   "metadata": {},
   "source": [
    "### **Exploración de Datos**\n",
    "\n",
    "**Hay dos tipos de características de entrada:**\n",
    "* Objetivo: información fáctica;\n",
    "* Descriptivo: información de descripción\n",
    "* Subjetivo: opinión del cliente\n",
    "\n",
    "| Parametro | Tipo de Dato | Variable | Tipo Valor |\n",
    "|---------|--------------|---------------|------------|\n",
    "| Index | Descriptivo | Unnamed: 0 | int |\n",
    "| Id | Descriptivo | id | int |\n",
    "| Género | Descriptivo | Gender | char |\n",
    "| Tipo de Cliente | Descriptivo | Customer_Type | char |\n",
    "| Edad | Descriptivo | Age | int |\n",
    "| Tipo de Viaje | Descriptivo | Type_of_Travel | char |\n",
    "| Clase | Descriptivo | Class | char |\n",
    "| Distancia de Vuelo | Objetivo | Flight_Distance | int |\n",
    "| Servicio de WI-FI Interno | Subjetivo | Inflight_wifi_service | int |\n",
    "| Hora de Salida/Llegada conveniente | Subjetivo | Departure/Arrival_time_convenient | int |\n",
    "| Facilidad de Reserva en Línea | Subjetivo | Ease_of_Online_booking | int |\n",
    "| Ubicación de la Puerta | Subjetivo | Gate_location | int |\n",
    "| Comida y Bebida | Subjetivo | Food_and_drink | int |\n",
    "| Online Boarding | Subjetivo | Online_boarding | int |\n",
    "| Confort del Asiento | Subjetivo | Seat_comfort | int |\n",
    "| Entretenimiento en el Vuelo | Subjetivo | Inflight_entertainment | int |\n",
    "| Servicio a Bordo | Subjetivo | On-board_service | int |\n",
    "| Servicio de Sala de Piernas | Subjetivo | Leg_room_service | int |\n",
    "| Manejo de Equipaje | Subjetivo | Baggage_handling | int |\n",
    "| Servicio de Facturación | Subjetivo | Checkin_service | int |\n",
    "| Servicio a Bordo en Vuelo | Subjetivo | Inflight_service | int |\n",
    "| Limpieza | Subjetivo | Cleanliness | int |\n",
    "| Retraso de Salida en Minutos | Objetivo | Departure_Delay_in_Minutes | int |\n",
    "| Retraso de Llegada en Minutos | Objetivo | Arrival_Delay_in_Minutes | int |\n",
    "| Satisfacción | Subjetivo | satisfaction | char |"
   ]
  },
  {
   "cell_type": "code",
   "execution_count": 39,
   "metadata": {},
   "outputs": [],
   "source": [
    "# Importar librerias\n",
    "import pandas as pd\n",
    "import numpy as np\n",
    "import matplotlib as mpl\n",
    "import matplotlib.pyplot as plt\n",
    "import matplotlib.patches as Rectangle\n",
    "import seaborn as sns\n",
    "import plotly.express as px\n",
    "import colorsys\n",
    "\n",
    "# Setear para que los gráficos se muestren dentro del mismo notebook:\n",
    "%matplotlib inline\n",
    "\n",
    "# Mostrar los números con 2 decimales\n",
    "pd.options.display.float_format = '{:,.2f}'.format"
   ]
  },
  {
   "cell_type": "code",
   "execution_count": 40,
   "metadata": {},
   "outputs": [],
   "source": [
    "# Importar el dataset por medio de un repositorio de Github\n",
    "\n",
    "df = pd.read_csv('/home/codespace/.ipython/profile_default/Coderhouse1/data/Test Satisfacción de Clientes de Vuelo.csv')"
   ]
  },
  {
   "cell_type": "code",
   "execution_count": 41,
   "metadata": {},
   "outputs": [
    {
     "data": {
      "text/html": [
       "<div>\n",
       "<style scoped>\n",
       "    .dataframe tbody tr th:only-of-type {\n",
       "        vertical-align: middle;\n",
       "    }\n",
       "\n",
       "    .dataframe tbody tr th {\n",
       "        vertical-align: top;\n",
       "    }\n",
       "\n",
       "    .dataframe thead th {\n",
       "        text-align: right;\n",
       "    }\n",
       "</style>\n",
       "<table border=\"1\" class=\"dataframe\">\n",
       "  <thead>\n",
       "    <tr style=\"text-align: right;\">\n",
       "      <th></th>\n",
       "      <th>Unnamed: 0</th>\n",
       "      <th>id</th>\n",
       "      <th>Gender</th>\n",
       "      <th>Customer Type</th>\n",
       "      <th>Age</th>\n",
       "      <th>Type of Travel</th>\n",
       "      <th>Class</th>\n",
       "      <th>Flight Distance</th>\n",
       "      <th>Inflight wifi service</th>\n",
       "      <th>Departure/Arrival time convenient</th>\n",
       "      <th>...</th>\n",
       "      <th>Inflight entertainment</th>\n",
       "      <th>On-board service</th>\n",
       "      <th>Leg room service</th>\n",
       "      <th>Baggage handling</th>\n",
       "      <th>Checkin service</th>\n",
       "      <th>Inflight service</th>\n",
       "      <th>Cleanliness</th>\n",
       "      <th>Departure Delay in Minutes</th>\n",
       "      <th>Arrival Delay in Minutes</th>\n",
       "      <th>satisfaction</th>\n",
       "    </tr>\n",
       "  </thead>\n",
       "  <tbody>\n",
       "    <tr>\n",
       "      <th>0</th>\n",
       "      <td>0</td>\n",
       "      <td>19556</td>\n",
       "      <td>Female</td>\n",
       "      <td>Loyal Customer</td>\n",
       "      <td>52</td>\n",
       "      <td>Business travel</td>\n",
       "      <td>Eco</td>\n",
       "      <td>160</td>\n",
       "      <td>5</td>\n",
       "      <td>4</td>\n",
       "      <td>...</td>\n",
       "      <td>5</td>\n",
       "      <td>5</td>\n",
       "      <td>5</td>\n",
       "      <td>5</td>\n",
       "      <td>2</td>\n",
       "      <td>5</td>\n",
       "      <td>5</td>\n",
       "      <td>50</td>\n",
       "      <td>44.00</td>\n",
       "      <td>satisfied</td>\n",
       "    </tr>\n",
       "    <tr>\n",
       "      <th>1</th>\n",
       "      <td>1</td>\n",
       "      <td>90035</td>\n",
       "      <td>Female</td>\n",
       "      <td>Loyal Customer</td>\n",
       "      <td>36</td>\n",
       "      <td>Business travel</td>\n",
       "      <td>Business</td>\n",
       "      <td>2863</td>\n",
       "      <td>1</td>\n",
       "      <td>1</td>\n",
       "      <td>...</td>\n",
       "      <td>4</td>\n",
       "      <td>4</td>\n",
       "      <td>4</td>\n",
       "      <td>4</td>\n",
       "      <td>3</td>\n",
       "      <td>4</td>\n",
       "      <td>5</td>\n",
       "      <td>0</td>\n",
       "      <td>0.00</td>\n",
       "      <td>satisfied</td>\n",
       "    </tr>\n",
       "    <tr>\n",
       "      <th>2</th>\n",
       "      <td>2</td>\n",
       "      <td>12360</td>\n",
       "      <td>Male</td>\n",
       "      <td>disloyal Customer</td>\n",
       "      <td>20</td>\n",
       "      <td>Business travel</td>\n",
       "      <td>Eco</td>\n",
       "      <td>192</td>\n",
       "      <td>2</td>\n",
       "      <td>0</td>\n",
       "      <td>...</td>\n",
       "      <td>2</td>\n",
       "      <td>4</td>\n",
       "      <td>1</td>\n",
       "      <td>3</td>\n",
       "      <td>2</td>\n",
       "      <td>2</td>\n",
       "      <td>2</td>\n",
       "      <td>0</td>\n",
       "      <td>0.00</td>\n",
       "      <td>neutral or dissatisfied</td>\n",
       "    </tr>\n",
       "    <tr>\n",
       "      <th>3</th>\n",
       "      <td>3</td>\n",
       "      <td>77959</td>\n",
       "      <td>Male</td>\n",
       "      <td>Loyal Customer</td>\n",
       "      <td>44</td>\n",
       "      <td>Business travel</td>\n",
       "      <td>Business</td>\n",
       "      <td>3377</td>\n",
       "      <td>0</td>\n",
       "      <td>0</td>\n",
       "      <td>...</td>\n",
       "      <td>1</td>\n",
       "      <td>1</td>\n",
       "      <td>1</td>\n",
       "      <td>1</td>\n",
       "      <td>3</td>\n",
       "      <td>1</td>\n",
       "      <td>4</td>\n",
       "      <td>0</td>\n",
       "      <td>6.00</td>\n",
       "      <td>satisfied</td>\n",
       "    </tr>\n",
       "    <tr>\n",
       "      <th>4</th>\n",
       "      <td>4</td>\n",
       "      <td>36875</td>\n",
       "      <td>Female</td>\n",
       "      <td>Loyal Customer</td>\n",
       "      <td>49</td>\n",
       "      <td>Business travel</td>\n",
       "      <td>Eco</td>\n",
       "      <td>1182</td>\n",
       "      <td>2</td>\n",
       "      <td>3</td>\n",
       "      <td>...</td>\n",
       "      <td>2</td>\n",
       "      <td>2</td>\n",
       "      <td>2</td>\n",
       "      <td>2</td>\n",
       "      <td>4</td>\n",
       "      <td>2</td>\n",
       "      <td>4</td>\n",
       "      <td>0</td>\n",
       "      <td>20.00</td>\n",
       "      <td>satisfied</td>\n",
       "    </tr>\n",
       "    <tr>\n",
       "      <th>...</th>\n",
       "      <td>...</td>\n",
       "      <td>...</td>\n",
       "      <td>...</td>\n",
       "      <td>...</td>\n",
       "      <td>...</td>\n",
       "      <td>...</td>\n",
       "      <td>...</td>\n",
       "      <td>...</td>\n",
       "      <td>...</td>\n",
       "      <td>...</td>\n",
       "      <td>...</td>\n",
       "      <td>...</td>\n",
       "      <td>...</td>\n",
       "      <td>...</td>\n",
       "      <td>...</td>\n",
       "      <td>...</td>\n",
       "      <td>...</td>\n",
       "      <td>...</td>\n",
       "      <td>...</td>\n",
       "      <td>...</td>\n",
       "      <td>...</td>\n",
       "    </tr>\n",
       "    <tr>\n",
       "      <th>25971</th>\n",
       "      <td>25971</td>\n",
       "      <td>78463</td>\n",
       "      <td>Male</td>\n",
       "      <td>disloyal Customer</td>\n",
       "      <td>34</td>\n",
       "      <td>Business travel</td>\n",
       "      <td>Business</td>\n",
       "      <td>526</td>\n",
       "      <td>3</td>\n",
       "      <td>3</td>\n",
       "      <td>...</td>\n",
       "      <td>4</td>\n",
       "      <td>3</td>\n",
       "      <td>2</td>\n",
       "      <td>4</td>\n",
       "      <td>4</td>\n",
       "      <td>5</td>\n",
       "      <td>4</td>\n",
       "      <td>0</td>\n",
       "      <td>0.00</td>\n",
       "      <td>neutral or dissatisfied</td>\n",
       "    </tr>\n",
       "    <tr>\n",
       "      <th>25972</th>\n",
       "      <td>25972</td>\n",
       "      <td>71167</td>\n",
       "      <td>Male</td>\n",
       "      <td>Loyal Customer</td>\n",
       "      <td>23</td>\n",
       "      <td>Business travel</td>\n",
       "      <td>Business</td>\n",
       "      <td>646</td>\n",
       "      <td>4</td>\n",
       "      <td>4</td>\n",
       "      <td>...</td>\n",
       "      <td>4</td>\n",
       "      <td>4</td>\n",
       "      <td>5</td>\n",
       "      <td>5</td>\n",
       "      <td>5</td>\n",
       "      <td>5</td>\n",
       "      <td>4</td>\n",
       "      <td>0</td>\n",
       "      <td>0.00</td>\n",
       "      <td>satisfied</td>\n",
       "    </tr>\n",
       "    <tr>\n",
       "      <th>25973</th>\n",
       "      <td>25973</td>\n",
       "      <td>37675</td>\n",
       "      <td>Female</td>\n",
       "      <td>Loyal Customer</td>\n",
       "      <td>17</td>\n",
       "      <td>Personal Travel</td>\n",
       "      <td>Eco</td>\n",
       "      <td>828</td>\n",
       "      <td>2</td>\n",
       "      <td>5</td>\n",
       "      <td>...</td>\n",
       "      <td>2</td>\n",
       "      <td>4</td>\n",
       "      <td>3</td>\n",
       "      <td>4</td>\n",
       "      <td>5</td>\n",
       "      <td>4</td>\n",
       "      <td>2</td>\n",
       "      <td>0</td>\n",
       "      <td>0.00</td>\n",
       "      <td>neutral or dissatisfied</td>\n",
       "    </tr>\n",
       "    <tr>\n",
       "      <th>25974</th>\n",
       "      <td>25974</td>\n",
       "      <td>90086</td>\n",
       "      <td>Male</td>\n",
       "      <td>Loyal Customer</td>\n",
       "      <td>14</td>\n",
       "      <td>Business travel</td>\n",
       "      <td>Business</td>\n",
       "      <td>1127</td>\n",
       "      <td>3</td>\n",
       "      <td>3</td>\n",
       "      <td>...</td>\n",
       "      <td>4</td>\n",
       "      <td>3</td>\n",
       "      <td>2</td>\n",
       "      <td>5</td>\n",
       "      <td>4</td>\n",
       "      <td>5</td>\n",
       "      <td>4</td>\n",
       "      <td>0</td>\n",
       "      <td>0.00</td>\n",
       "      <td>satisfied</td>\n",
       "    </tr>\n",
       "    <tr>\n",
       "      <th>25975</th>\n",
       "      <td>25975</td>\n",
       "      <td>34799</td>\n",
       "      <td>Female</td>\n",
       "      <td>Loyal Customer</td>\n",
       "      <td>42</td>\n",
       "      <td>Personal Travel</td>\n",
       "      <td>Eco</td>\n",
       "      <td>264</td>\n",
       "      <td>2</td>\n",
       "      <td>5</td>\n",
       "      <td>...</td>\n",
       "      <td>1</td>\n",
       "      <td>1</td>\n",
       "      <td>2</td>\n",
       "      <td>1</td>\n",
       "      <td>1</td>\n",
       "      <td>1</td>\n",
       "      <td>1</td>\n",
       "      <td>0</td>\n",
       "      <td>0.00</td>\n",
       "      <td>neutral or dissatisfied</td>\n",
       "    </tr>\n",
       "  </tbody>\n",
       "</table>\n",
       "<p>25976 rows × 25 columns</p>\n",
       "</div>"
      ],
      "text/plain": [
       "       Unnamed: 0     id  Gender      Customer Type  Age   Type of Travel  \\\n",
       "0               0  19556  Female     Loyal Customer   52  Business travel   \n",
       "1               1  90035  Female     Loyal Customer   36  Business travel   \n",
       "2               2  12360    Male  disloyal Customer   20  Business travel   \n",
       "3               3  77959    Male     Loyal Customer   44  Business travel   \n",
       "4               4  36875  Female     Loyal Customer   49  Business travel   \n",
       "...           ...    ...     ...                ...  ...              ...   \n",
       "25971       25971  78463    Male  disloyal Customer   34  Business travel   \n",
       "25972       25972  71167    Male     Loyal Customer   23  Business travel   \n",
       "25973       25973  37675  Female     Loyal Customer   17  Personal Travel   \n",
       "25974       25974  90086    Male     Loyal Customer   14  Business travel   \n",
       "25975       25975  34799  Female     Loyal Customer   42  Personal Travel   \n",
       "\n",
       "          Class  Flight Distance  Inflight wifi service  \\\n",
       "0           Eco              160                      5   \n",
       "1      Business             2863                      1   \n",
       "2           Eco              192                      2   \n",
       "3      Business             3377                      0   \n",
       "4           Eco             1182                      2   \n",
       "...         ...              ...                    ...   \n",
       "25971  Business              526                      3   \n",
       "25972  Business              646                      4   \n",
       "25973       Eco              828                      2   \n",
       "25974  Business             1127                      3   \n",
       "25975       Eco              264                      2   \n",
       "\n",
       "       Departure/Arrival time convenient  ...  Inflight entertainment  \\\n",
       "0                                      4  ...                       5   \n",
       "1                                      1  ...                       4   \n",
       "2                                      0  ...                       2   \n",
       "3                                      0  ...                       1   \n",
       "4                                      3  ...                       2   \n",
       "...                                  ...  ...                     ...   \n",
       "25971                                  3  ...                       4   \n",
       "25972                                  4  ...                       4   \n",
       "25973                                  5  ...                       2   \n",
       "25974                                  3  ...                       4   \n",
       "25975                                  5  ...                       1   \n",
       "\n",
       "       On-board service  Leg room service  Baggage handling  Checkin service  \\\n",
       "0                     5                 5                 5                2   \n",
       "1                     4                 4                 4                3   \n",
       "2                     4                 1                 3                2   \n",
       "3                     1                 1                 1                3   \n",
       "4                     2                 2                 2                4   \n",
       "...                 ...               ...               ...              ...   \n",
       "25971                 3                 2                 4                4   \n",
       "25972                 4                 5                 5                5   \n",
       "25973                 4                 3                 4                5   \n",
       "25974                 3                 2                 5                4   \n",
       "25975                 1                 2                 1                1   \n",
       "\n",
       "       Inflight service  Cleanliness  Departure Delay in Minutes  \\\n",
       "0                     5            5                          50   \n",
       "1                     4            5                           0   \n",
       "2                     2            2                           0   \n",
       "3                     1            4                           0   \n",
       "4                     2            4                           0   \n",
       "...                 ...          ...                         ...   \n",
       "25971                 5            4                           0   \n",
       "25972                 5            4                           0   \n",
       "25973                 4            2                           0   \n",
       "25974                 5            4                           0   \n",
       "25975                 1            1                           0   \n",
       "\n",
       "       Arrival Delay in Minutes             satisfaction  \n",
       "0                         44.00                satisfied  \n",
       "1                          0.00                satisfied  \n",
       "2                          0.00  neutral or dissatisfied  \n",
       "3                          6.00                satisfied  \n",
       "4                         20.00                satisfied  \n",
       "...                         ...                      ...  \n",
       "25971                      0.00  neutral or dissatisfied  \n",
       "25972                      0.00                satisfied  \n",
       "25973                      0.00  neutral or dissatisfied  \n",
       "25974                      0.00                satisfied  \n",
       "25975                      0.00  neutral or dissatisfied  \n",
       "\n",
       "[25976 rows x 25 columns]"
      ]
     },
     "execution_count": 41,
     "metadata": {},
     "output_type": "execute_result"
    }
   ],
   "source": [
    "df"
   ]
  },
  {
   "attachments": {},
   "cell_type": "markdown",
   "metadata": {},
   "source": [
    "### Datos Duplicados y Nulos y Otras Modificaciones"
   ]
  },
  {
   "cell_type": "code",
   "execution_count": 42,
   "metadata": {},
   "outputs": [],
   "source": [
    "# Agregarle Mayus al valor 'disloyal Customer' en la columna 'Customer Type'\n",
    "df['Customer Type'] = df['Customer Type'].replace('disloyal Customer', 'Disloyal Customer')"
   ]
  },
  {
   "cell_type": "code",
   "execution_count": 43,
   "metadata": {},
   "outputs": [],
   "source": [
    "# Realizar el drop() de la columna \"Unnamed: 0\" ya que en este caso no aporta ningun dato valioso al análisis a realizar.\n",
    "\n",
    "df.drop(labels = \"Unnamed: 0\", axis = 1, inplace = True)"
   ]
  },
  {
   "cell_type": "code",
   "execution_count": 44,
   "metadata": {},
   "outputs": [
    {
     "name": "stdout",
     "output_type": "stream",
     "text": [
      "Hay en total una cantidad de 83 datos nulos en el dataset\n"
     ]
    }
   ],
   "source": [
    "# Determinar la cantidad de datos nulos (correspondientes a la última fila)\n",
    "cont_nulos = 0\n",
    "for column in df.columns:\n",
    "  cont_nulos += df[column].isna().sum()\n",
    "\n",
    "print('Hay en total una cantidad de {0} datos nulos en el dataset'.format(cont_nulos))"
   ]
  },
  {
   "cell_type": "code",
   "execution_count": 45,
   "metadata": {},
   "outputs": [
    {
     "name": "stdout",
     "output_type": "stream",
     "text": [
      "El dataset no cuenta con datos duplicados.\n"
     ]
    }
   ],
   "source": [
    "# Determinar la cantidad de datos duplicados\n",
    "cant_duplicados = df.duplicated().sum()\n",
    "if(cant_duplicados):\n",
    "  print('La cantidad de datos duplicados en el dataset es {0}.'.format(cant_duplicados))\n",
    "else:\n",
    "  print('El dataset no cuenta con datos duplicados.')"
   ]
  },
  {
   "cell_type": "code",
   "execution_count": 46,
   "metadata": {},
   "outputs": [
    {
     "name": "stdout",
     "output_type": "stream",
     "text": [
      "Tras haber eliminado los datos duplicados, el dataset cuenta con 25976 entradas.\n"
     ]
    }
   ],
   "source": [
    "print(\"Tras haber eliminado los datos duplicados, el dataset cuenta con {0} entradas.\".format(df.shape[0]))"
   ]
  },
  {
   "attachments": {},
   "cell_type": "markdown",
   "metadata": {},
   "source": [
    "## Análsis Univariado del DataSet"
   ]
  },
  {
   "attachments": {},
   "cell_type": "markdown",
   "metadata": {},
   "source": [
    "### Variable Customer Type\n",
    "\n",
    "La variable \"Customer Type\" identifica la fidelidad o no del cliente. "
   ]
  },
  {
   "attachments": {},
   "cell_type": "markdown",
   "metadata": {},
   "source": [
    "### Análsis:"
   ]
  },
  {
   "cell_type": "code",
   "execution_count": 47,
   "metadata": {},
   "outputs": [
    {
     "data": {
      "text/plain": [
       "dtype('O')"
      ]
     },
     "execution_count": 47,
     "metadata": {},
     "output_type": "execute_result"
    }
   ],
   "source": [
    "# Tipo de variable\n",
    "df[\"Customer Type\"].dtype"
   ]
  },
  {
   "cell_type": "code",
   "execution_count": 48,
   "metadata": {},
   "outputs": [
    {
     "name": "stdout",
     "output_type": "stream",
     "text": [
      "Loyal Customer       21177\n",
      "Disloyal Customer     4799\n",
      "Name: Customer Type, dtype: int64\n"
     ]
    }
   ],
   "source": [
    "# Valores distintos \n",
    "Counts_Customer_Type = df[\"Customer Type\"].value_counts()\n",
    "\n",
    "print(Counts_Customer_Type)"
   ]
  },
  {
   "cell_type": "code",
   "execution_count": 49,
   "metadata": {},
   "outputs": [],
   "source": [
    "# Calcular los porcentajes de cada valor en la columna\n",
    "Porcentajes_Customer_Type = df['Customer Type'].value_counts(normalize=True) * 100"
   ]
  },
  {
   "cell_type": "code",
   "execution_count": 50,
   "metadata": {},
   "outputs": [
    {
     "data": {
      "text/plain": [
       "count              25976\n",
       "unique                 2\n",
       "top       Loyal Customer\n",
       "freq               21177\n",
       "Name: Customer Type, dtype: object"
      ]
     },
     "execution_count": 50,
     "metadata": {},
     "output_type": "execute_result"
    }
   ],
   "source": [
    "# Estadisticos generales\n",
    "df[\"Customer Type\"].describe()"
   ]
  },
  {
   "cell_type": "code",
   "execution_count": 118,
   "metadata": {},
   "outputs": [
    {
     "data": {
      "image/png": "[encoded data removed]",
      "text/plain": [
       "<Figure size 640x480 with 1 Axes>"
      ]
     },
     "metadata": {},
     "output_type": "display_data"
    }
   ],
   "source": [
    "# Crear diccionario de colores para Customer Type\n",
    "Colores_Customer_Type = {'#004EA0', '#FFA600'}\n",
    "\n",
    "# Crear un gráfico de barras del Customer Type\n",
    "plt.bar(Counts_Customer_Type.index, Counts_Customer_Type, color=Colores_Customer_Type)\n",
    "plt.title('Registros según variable Customer Type')\n",
    "plt.ylabel('Cantidad')\n",
    "\n",
    "# Agregar etiquetas a cada barra\n",
    "for i, v in enumerate(Counts_Customer_Type):\n",
    "    plt.text(i, v/2, str(v) + '\\nClientes', ha='center', color='white', fontweight='semibold')\n",
    "\n",
    "# Guardar el gráfico en un archivo PNG\n",
    "plt.savefig(\"registro_segun_customer_type.png\")\n",
    "\n",
    "# Mostrar gráfico\n",
    "plt.show()"
   ]
  },
  {
   "cell_type": "code",
   "execution_count": 120,
   "metadata": {},
   "outputs": [
    {
     "data": {
      "image/png": "[encoded data removed]",
      "text/plain": [
       "<Figure size 640x480 with 1 Axes>"
      ]
     },
     "metadata": {},
     "output_type": "display_data"
    }
   ],
   "source": [
    "# Crear un gráfico de barras del Customer Type\n",
    "plt.bar(Porcentajes_Customer_Type.index, Porcentajes_Customer_Type, color=Colores_Customer_Type)\n",
    "plt.title('Registros medidos en Porcentajes')\n",
    "plt.ylabel('Porcentaje')\n",
    "\n",
    "# Agregar etiquetas de porcentaje a cada barra\n",
    "for i, v in enumerate(Porcentajes_Customer_Type):\n",
    "    plt.text(i, v/2, '{:.1f}%'.format(v), ha='center', color='white', fontweight='semibold')\n",
    "\n",
    "# Guardar el gráfico en un archivo PNG\n",
    "plt.savefig(\"registros_medidos_porcen.png\")\n",
    "\n",
    "# Mostrar gráfico\n",
    "plt.show()"
   ]
  },
  {
   "attachments": {},
   "cell_type": "markdown",
   "metadata": {},
   "source": [
    "#### Resumen: Variable Customer Type\n",
    "\n",
    "Tipo de Variable:\n",
    "* En Python: variable cualitativa nominal\n",
    "* Conceptualmente: binaria, luego de haber transformado el tipo de dato\n",
    "    * Valor 0: Disloyal Customer \n",
    "    * Valor 1: Loyal Customer\n",
    "\n",
    "Medidas de tendencia central:\n",
    "* Promedio: 81.5% (0.82) - El 81.5% de los clientes son Loyal Customers.\n",
    "* Mediana: No aplicable a variables con 2 valores\n",
    "* Moda: 1 - ( 81.5% de los casos)\n",
    "\n",
    "Medidas de dispersión:\n",
    "* Rango: Entre 0 y 1.\n",
    "* Desviacion estandar: 0.39\n",
    "* n-tiles: No aplicable a variables con 2 valores\n",
    "\n",
    "Tablas de frecuencia:\n",
    "* Frecuencias absolutas: No aplicable\n",
    "* Frecuencias relativas: No aplicable\n",
    "* Frecuencias porcentuales: No aplicable\n",
    "\n",
    "Visualización de datos\n",
    "* Histogramas: Conteo de Cantidad de Clientes separados por Categoría y otro respresentado en porcentajes.\n",
    "* Graficos de torta: No aplicable \n",
    "* Boxplot: No aplicable - Variable con solo 2 valores."
   ]
  },
  {
   "attachments": {},
   "cell_type": "markdown",
   "metadata": {},
   "source": [
    "### Variable Age\n",
    "\n",
    "La variable \"Age\" indica la edad del cliente al momento de la encuesta."
   ]
  },
  {
   "attachments": {},
   "cell_type": "markdown",
   "metadata": {},
   "source": [
    "#### Analisis:"
   ]
  },
  {
   "cell_type": "code",
   "execution_count": 53,
   "metadata": {},
   "outputs": [
    {
     "data": {
      "text/plain": [
       "dtype('int64')"
      ]
     },
     "execution_count": 53,
     "metadata": {},
     "output_type": "execute_result"
    }
   ],
   "source": [
    "#Tipo de variable\n",
    "df[\"Age\"].dtype"
   ]
  },
  {
   "cell_type": "code",
   "execution_count": 54,
   "metadata": {},
   "outputs": [
    {
     "data": {
      "text/plain": [
       "count   25,976.00\n",
       "mean        39.62\n",
       "std         15.14\n",
       "min          7.00\n",
       "25%         27.00\n",
       "50%         40.00\n",
       "75%         51.00\n",
       "max         85.00\n",
       "Name: Age, dtype: float64"
      ]
     },
     "execution_count": 54,
     "metadata": {},
     "output_type": "execute_result"
    }
   ],
   "source": [
    "# Estadisticos generales\n",
    "df[\"Age\"].describe()"
   ]
  },
  {
   "attachments": {},
   "cell_type": "markdown",
   "metadata": {},
   "source": [
    "De lo anterior:\n",
    "\n",
    "* La variable toma valores entre 7 y 85 años.\n",
    "* Promedio: 39 años\n",
    "* En relación a los cuartiles:\n",
    "* El 25% de los pacientes tienen 27 años o menos.\n",
    "* El 50% de los pacientes tienen 40 años o menos.\n",
    "* El 75% de los pacientes tienen 51 años o menos."
   ]
  },
  {
   "cell_type": "code",
   "execution_count": 55,
   "metadata": {},
   "outputs": [
    {
     "data": {
      "text/plain": [
       "count      25,976.00\n",
       "mean           39.62\n",
       "std            15.14\n",
       "min             7.00\n",
       "25%            27.00\n",
       "50%            40.00\n",
       "75%            51.00\n",
       "max            85.00\n",
       "coef_var        0.38\n",
       "Name: Age, dtype: float64"
      ]
     },
     "execution_count": 55,
     "metadata": {},
     "output_type": "execute_result"
    }
   ],
   "source": [
    "# Nivel de dispersión\n",
    "# Coeficiente de variación:\n",
    "\n",
    "# Crear un dataframe con los descriptivos de la base transpuesta.\n",
    "df_transpose = df.describe().transpose()\n",
    "\n",
    "# Crear la columna con el coeficiente de variación.\n",
    "df_transpose[\"coef_var\"] = df_transpose[\"std\"] / df_transpose[\"mean\"]\n",
    "df_transpose.loc[\"Age\"]"
   ]
  },
  {
   "attachments": {},
   "cell_type": "markdown",
   "metadata": {},
   "source": [
    "De lo anterior:\n",
    "* El coeficiente de variación es 38%. Dado que es mayor a 30%, se concluye que el NIVEL DE DISPERSIÓN de la variable no es REPRESENTATIVA, según Martínez. "
   ]
  },
  {
   "cell_type": "code",
   "execution_count": 116,
   "metadata": {},
   "outputs": [
    {
     "data": {
      "image/png": "[encoded data removed]",
      "text/plain": [
       "<Figure size 640x480 with 1 Axes>"
      ]
     },
     "metadata": {},
     "output_type": "display_data"
    }
   ],
   "source": [
    "# Crear histograma para ver la frecuencia de las edades\n",
    "plt.hist(df[\"Age\"], bins=100, density=True, alpha=0.5, color='#004EA0')\n",
    "\n",
    "# Configurar gráfico\n",
    "plt.title(\"Distribución de Edades\")\n",
    "plt.xlabel(\"Edad\")\n",
    "plt.ylabel(\"Frecuencia\")\n",
    "\n",
    "# # Guardar el gráfico en un archivo PNG\n",
    "plt.savefig(\"histograma_edades.png\")\n",
    "\n",
    "#Mostrar Gráfico\n",
    "plt.show()"
   ]
  },
  {
   "attachments": {},
   "cell_type": "markdown",
   "metadata": {},
   "source": [
    "De lo anterior:\n",
    "* Como se puede apreciar en el gráfico, la distribución de la frecuencia varía en demasía."
   ]
  },
  {
   "cell_type": "code",
   "execution_count": 57,
   "metadata": {},
   "outputs": [
    {
     "data": {
      "text/plain": [
       "count   13,529.00\n",
       "mean        39.45\n",
       "std          7.03\n",
       "min         27.00\n",
       "25%         34.00\n",
       "50%         40.00\n",
       "75%         45.00\n",
       "max         51.00\n",
       "Name: Age, dtype: float64"
      ]
     },
     "execution_count": 57,
     "metadata": {},
     "output_type": "execute_result"
    }
   ],
   "source": [
    "# Calcular el percentil 25 y el percentil 75 de la columna 'Age'\n",
    "p25 = df['Age'].quantile(0.25)\n",
    "p75 = df['Age'].quantile(0.75)\n",
    "\n",
    "# seleccionar los valores dentro del rango entre los percentiles 25 y 75\n",
    "edades_seleccionadas = df[(df['Age'] >= p25) & (df['Age'] <= p75)][\"Age\"]\n",
    "\n",
    "edades_seleccionadas.describe()"
   ]
  },
  {
   "cell_type": "code",
   "execution_count": 58,
   "metadata": {},
   "outputs": [
    {
     "data": {
      "text/plain": [
       "85      8\n",
       "80     32\n",
       "79     10\n",
       "78     11\n",
       "77     19\n",
       "     ... \n",
       "11    159\n",
       "10    139\n",
       "9     167\n",
       "8     157\n",
       "7     123\n",
       "Name: Age, Length: 75, dtype: int64"
      ]
     },
     "execution_count": 58,
     "metadata": {},
     "output_type": "execute_result"
    }
   ],
   "source": [
    "# Valores distintos ordenados por el valor de la variable\n",
    "df[\"Age\"].value_counts().sort_index(ascending=False)"
   ]
  },
  {
   "cell_type": "code",
   "execution_count": 59,
   "metadata": {},
   "outputs": [
    {
     "data": {
      "text/plain": [
       "39   0.03\n",
       "25   0.03\n",
       "40   0.02\n",
       "41   0.02\n",
       "43   0.02\n",
       "     ... \n",
       "75   0.00\n",
       "74   0.00\n",
       "78   0.00\n",
       "79   0.00\n",
       "85   0.00\n",
       "Name: Age, Length: 75, dtype: float64"
      ]
     },
     "execution_count": 59,
     "metadata": {},
     "output_type": "execute_result"
    }
   ],
   "source": [
    "# Valores distintos ordenados por la frecuencia de la variable\n",
    "df[\"Age\"].value_counts(normalize=True)"
   ]
  },
  {
   "cell_type": "code",
   "execution_count": 60,
   "metadata": {},
   "outputs": [
    {
     "data": {
      "text/plain": [
       "75"
      ]
     },
     "execution_count": 60,
     "metadata": {},
     "output_type": "execute_result"
    }
   ],
   "source": [
    "# Valores únicos de la variable:\n",
    "df[\"Age\"].nunique()"
   ]
  },
  {
   "cell_type": "code",
   "execution_count": 61,
   "metadata": {},
   "outputs": [
    {
     "name": "stdout",
     "output_type": "stream",
     "text": [
      "0.5575916230366491\n"
     ]
    }
   ],
   "source": [
    "Frecuencia_Edades = df[\"Age\"].value_counts()\n",
    "\n",
    "Porcentaje_Edades = (Frecuencia_Edades / len(df['Age']))\n",
    "\n",
    "top_25_edades = Frecuencia_Edades.head(25)\n",
    "\n",
    "top_25_edades_en_porc = Porcentaje_Edades.head(25)\n",
    "\n",
    "print(Porcentaje_Edades.head(25).sum())"
   ]
  },
  {
   "cell_type": "code",
   "execution_count": 62,
   "metadata": {},
   "outputs": [
    {
     "name": "stdout",
     "output_type": "stream",
     "text": [
      "39   0.03\n",
      "25   0.03\n",
      "40   0.02\n",
      "41   0.02\n",
      "43   0.02\n",
      "44   0.02\n",
      "45   0.02\n",
      "27   0.02\n",
      "23   0.02\n",
      "48   0.02\n",
      "22   0.02\n",
      "37   0.02\n",
      "49   0.02\n",
      "46   0.02\n",
      "42   0.02\n",
      "47   0.02\n",
      "24   0.02\n",
      "38   0.02\n",
      "36   0.02\n",
      "52   0.02\n",
      "54   0.02\n",
      "26   0.02\n",
      "51   0.02\n",
      "29   0.02\n",
      "50   0.02\n",
      "Name: Age, dtype: float64\n"
     ]
    }
   ],
   "source": [
    "print(top_25_edades_en_porc.sort_values(ascending=False))"
   ]
  },
  {
   "attachments": {},
   "cell_type": "markdown",
   "metadata": {},
   "source": [
    "De lo anterior:\n",
    "* Se trata de trabajar con los valores dentro de los percentiles 25 y 75 para intentar calcular un coeficiente de variación más representativo sobre la muestra.\n",
    "* Como podemos ver, los valores dentro de ambos percentiles concentra aproximadamente un 50% de valores y el top 25 de edades en frecuencia replica a las edades calculadas dentro de los percentiles.\n",
    "* Confirmamos que la concentración de valores se encuentra entre las edades 22 y 59 años, es decir, hacia en el medio del gráfico, como pudimos ver anteriormente."
   ]
  },
  {
   "cell_type": "code",
   "execution_count": 113,
   "metadata": {},
   "outputs": [
    {
     "data": {
      "image/png": "[encoded data removed]",
      "text/plain": [
       "<Figure size 640x480 with 1 Axes>"
      ]
     },
     "metadata": {},
     "output_type": "display_data"
    }
   ],
   "source": [
    "Densidad = df[\"Age\"]\n",
    "# Gráfico de densidad\n",
    "sns.kdeplot(x = Densidad, \n",
    "            fill = True, color = \"#004EA0\", alpha = 0.5)\n",
    "\n",
    "# Configurar gráfico\n",
    "plt.title(\"Distribución de edades\")\n",
    "plt.xlabel(\"Edad\")\n",
    "plt.ylabel(\"Frecuencia\")\n",
    "\n",
    "# Guardar el gráfico en un archivo PNG\n",
    "plt.savefig(\"distribucion_edades.png\")\n",
    "\n",
    "plt.show()"
   ]
  },
  {
   "cell_type": "code",
   "execution_count": 112,
   "metadata": {},
   "outputs": [
    {
     "data": {
      "image/png": "[encoded data removed]",
      "text/plain": [
       "<Figure size 640x480 with 1 Axes>"
      ]
     },
     "metadata": {},
     "output_type": "display_data"
    }
   ],
   "source": [
    "# Representación gráfica de las edades dependiendo el Customer Type:\n",
    "sns.histplot(x = df[\"Age\"] , hue = df[\"Customer Type\"], data = df, bins= 100, palette=Colores_Customer_Type)\n",
    "\n",
    "# Configurar gráfico\n",
    "plt.title(\"Distribución de edades\")\n",
    "plt.xlabel(\"Edad\")\n",
    "plt.ylabel(\"Frecuencia\")\n",
    "\n",
    "# Guardar el gráfico en un archivo PNG\n",
    "plt.savefig(\"distribucion_edades_por_customer_type.png\")\n",
    "\n",
    "# Mostrar gráfico\n",
    "plt.show()"
   ]
  },
  {
   "attachments": {},
   "cell_type": "markdown",
   "metadata": {},
   "source": [
    "De lo anterior:\n",
    "* Se puede ver una concentración de Disloyal Customer en el rango de edades de 20 y 30 años.\n",
    "* Por otro lado, la concentración de Loyal Customer se encuentra en el de 40 a 60 años."
   ]
  },
  {
   "cell_type": "code",
   "execution_count": 111,
   "metadata": {},
   "outputs": [
    {
     "data": {
      "image/png": "[encoded data removed]",
      "text/plain": [
       "<Figure size 800x600 with 1 Axes>"
      ]
     },
     "metadata": {},
     "output_type": "display_data"
    }
   ],
   "source": [
    "# Configurar tamñano del gráfico\n",
    "fig, ax = plt.subplots(figsize=(8, 6))\n",
    "\n",
    "\n",
    "# Crear gráfico de caja y bigotes con Seaborn\n",
    "sns.boxplot(x=df[\"Age\"], ax=ax, color=\"#004EA0\", showfliers=False)\n",
    "\n",
    "# Configurar gráfico\n",
    "plt.axvline(x=df[\"Age\"].quantile(0.1), color='#FFA600', linestyle='--')\n",
    "plt.axvline(x=df[\"Age\"].quantile(0.50), color='#FFA600', linestyle='--')\n",
    "plt.axvline(x=df[\"Age\"].quantile(0.9), color='#FFA600', linestyle='--')\n",
    "ax.set_title(\"Caja y Bigotes de Edades\")\n",
    "ax.set_xlabel(\"Edad\")\n",
    "ax.set_ylabel(\"Frecuencia\")\n",
    "\n",
    "# Mostrar gráfico\n",
    "plt.show()"
   ]
  },
  {
   "attachments": {},
   "cell_type": "markdown",
   "metadata": {},
   "source": [
    "De lo anterior:\n",
    "* Se puede ver de otra forma la concentración de los valores dentro de los percentiles 0.25 y 0.75.\n",
    "* Además, se agregaron rectas verticales punteadas en los percentiles 0.1 y 0.9, para graficar posibles outliers que identificaremos a continuación, "
   ]
  },
  {
   "cell_type": "code",
   "execution_count": 79,
   "metadata": {},
   "outputs": [
    {
     "name": "stdout",
     "output_type": "stream",
     "text": [
      "85   0.03\n",
      "79   0.04\n",
      "78   0.04\n",
      "74   0.05\n",
      "76   0.06\n",
      "75   0.06\n",
      "73   0.06\n",
      "77   0.07\n",
      "71   0.08\n",
      "80   0.12\n",
      "72   0.18\n",
      "7    0.47\n",
      "10   0.54\n",
      "70   0.57\n",
      "14   0.59\n",
      "69   0.59\n",
      "8    0.60\n",
      "11   0.61\n",
      "12   0.61\n",
      "67   0.63\n",
      "9    0.64\n",
      "13   0.67\n",
      "68   0.67\n",
      "63   0.72\n",
      "15   0.72\n",
      "64   0.73\n",
      "66   0.74\n",
      "65   0.75\n",
      "19   0.79\n",
      "62   0.88\n",
      "61   0.92\n",
      "17   0.93\n",
      "18   0.94\n",
      "16   0.99\n",
      "32   1.38\n",
      "Name: Frec_Relativa_%, dtype: float64\n"
     ]
    }
   ],
   "source": [
    "# Frecuencias\n",
    "\n",
    "Age = df['Age']\n",
    "\n",
    "## Frecuencia absoluta\n",
    "frec = Age.value_counts().sort_index()\n",
    "## Guardamos esta información en un dataframe\n",
    "frec_df = pd.DataFrame(frec)\n",
    "## Asignamos el nombre Frec_abs a la columna\n",
    "frec_df.rename(columns={'Age':'Frec_abs'},inplace=True)\n",
    "\n",
    "# Frecuencias acumuladas\n",
    "\n",
    "## Obtenemos los valores de las Frecuencias Absolutas\n",
    "Frec_abs_val = frec_df[\"Frec_abs\"].values\n",
    "## Creamos una lista vacia en donde vamos a guardar las frecuencias absolutas acumuladas\n",
    "acum = []\n",
    "## Iniciamos una variable en la que guardaremos los valores anteriores\n",
    "valor_acum = 0\n",
    "## Recorremos la lista  de las frecuencias absolutas para ir sumandolas\n",
    "for i in Frec_abs_val:\n",
    "    valor_acum = valor_acum + i\n",
    "    acum.append(valor_acum)\n",
    "frec_df[\"Frec_abs_Acumulada\"] = acum\n",
    "\n",
    "# Frecuencia Relativa en %\n",
    "frec_df[\"Frec_Relativa_%\"] = round(100 * frec_df[\"Frec_abs\"]/len(Age),4)\n",
    "\n",
    "# Frecuencias acumuladas relativas\n",
    "\n",
    "# Obtenemos los valores de las Frecuencias Relativas\n",
    "Frec_rel_val = frec_df[\"Frec_Relativa_%\"].values\n",
    "#Creamos una lista vacia en donde vamos a guardar las frecuencias relativas acumuladas\n",
    "acum = []\n",
    "#Iniciamos una variable  en la que guardaremos los valores anteriores\n",
    "valor_acum = 0\n",
    "#Recorremos la lista  de las frecuencias relativas para ir sumandolas\n",
    "for i in Frec_rel_val:\n",
    "    valor_acum = valor_acum + i\n",
    "    acum.append(valor_acum)\n",
    "    \n",
    "frec_df[\"Frec_Rel_%_Acumulada\"] = acum\n",
    "\n",
    "print(frec_df[\"Frec_Relativa_%\"].sort_values(ascending=True).head(35))"
   ]
  },
  {
   "cell_type": "code",
   "execution_count": 89,
   "metadata": {},
   "outputs": [
    {
     "data": {
      "text/plain": [
       "85   0.03\n",
       "79   0.04\n",
       "78   0.04\n",
       "74   0.05\n",
       "76   0.06\n",
       "75   0.06\n",
       "73   0.06\n",
       "77   0.07\n",
       "71   0.08\n",
       "80   0.12\n",
       "72   0.18\n",
       "7    0.47\n",
       "10   0.54\n",
       "70   0.57\n",
       "14   0.59\n",
       "69   0.59\n",
       "8    0.60\n",
       "11   0.61\n",
       "12   0.61\n",
       "67   0.63\n",
       "9    0.64\n",
       "13   0.67\n",
       "68   0.67\n",
       "63   0.72\n",
       "15   0.72\n",
       "64   0.73\n",
       "66   0.74\n",
       "65   0.75\n",
       "19   0.79\n",
       "62   0.88\n",
       "61   0.92\n",
       "17   0.93\n",
       "18   0.94\n",
       "16   0.99\n",
       "32   1.38\n",
       "Name: Frec_Relativa_%, dtype: float64"
      ]
     },
     "execution_count": 89,
     "metadata": {},
     "output_type": "execute_result"
    }
   ],
   "source": [
    "frec_df['Frec_Relativa_%'].sort_values(ascending=True).head(35)"
   ]
  },
  {
   "cell_type": "code",
   "execution_count": 108,
   "metadata": {},
   "outputs": [
    {
     "data": {
      "text/html": [
       "<div>\n",
       "<style scoped>\n",
       "    .dataframe tbody tr th:only-of-type {\n",
       "        vertical-align: middle;\n",
       "    }\n",
       "\n",
       "    .dataframe tbody tr th {\n",
       "        vertical-align: top;\n",
       "    }\n",
       "\n",
       "    .dataframe thead th {\n",
       "        text-align: right;\n",
       "    }\n",
       "</style>\n",
       "<table border=\"1\" class=\"dataframe\">\n",
       "  <thead>\n",
       "    <tr style=\"text-align: right;\">\n",
       "      <th></th>\n",
       "      <th>Frec_abs</th>\n",
       "      <th>Frec_abs_Acumulada</th>\n",
       "      <th>Frec_Relativa_%</th>\n",
       "      <th>Frec_Rel_%_Acumulada</th>\n",
       "    </tr>\n",
       "  </thead>\n",
       "  <tbody>\n",
       "    <tr>\n",
       "      <th>20</th>\n",
       "      <td>358</td>\n",
       "      <td>2725</td>\n",
       "      <td>1.38</td>\n",
       "      <td>10.49</td>\n",
       "    </tr>\n",
       "    <tr>\n",
       "      <th>32</th>\n",
       "      <td>358</td>\n",
       "      <td>8881</td>\n",
       "      <td>1.38</td>\n",
       "      <td>34.19</td>\n",
       "    </tr>\n",
       "    <tr>\n",
       "      <th>21</th>\n",
       "      <td>395</td>\n",
       "      <td>3120</td>\n",
       "      <td>1.52</td>\n",
       "      <td>12.01</td>\n",
       "    </tr>\n",
       "    <tr>\n",
       "      <th>31</th>\n",
       "      <td>400</td>\n",
       "      <td>8523</td>\n",
       "      <td>1.54</td>\n",
       "      <td>32.81</td>\n",
       "    </tr>\n",
       "    <tr>\n",
       "      <th>60</th>\n",
       "      <td>418</td>\n",
       "      <td>23898</td>\n",
       "      <td>1.61</td>\n",
       "      <td>92.00</td>\n",
       "    </tr>\n",
       "    <tr>\n",
       "      <th>28</th>\n",
       "      <td>441</td>\n",
       "      <td>7129</td>\n",
       "      <td>1.70</td>\n",
       "      <td>27.44</td>\n",
       "    </tr>\n",
       "    <tr>\n",
       "      <th>34</th>\n",
       "      <td>445</td>\n",
       "      <td>9809</td>\n",
       "      <td>1.71</td>\n",
       "      <td>37.76</td>\n",
       "    </tr>\n",
       "    <tr>\n",
       "      <th>58</th>\n",
       "      <td>448</td>\n",
       "      <td>23018</td>\n",
       "      <td>1.72</td>\n",
       "      <td>88.61</td>\n",
       "    </tr>\n",
       "    <tr>\n",
       "      <th>56</th>\n",
       "      <td>452</td>\n",
       "      <td>22095</td>\n",
       "      <td>1.74</td>\n",
       "      <td>85.06</td>\n",
       "    </tr>\n",
       "    <tr>\n",
       "      <th>59</th>\n",
       "      <td>462</td>\n",
       "      <td>23480</td>\n",
       "      <td>1.78</td>\n",
       "      <td>90.39</td>\n",
       "    </tr>\n",
       "    <tr>\n",
       "      <th>55</th>\n",
       "      <td>473</td>\n",
       "      <td>21643</td>\n",
       "      <td>1.82</td>\n",
       "      <td>83.32</td>\n",
       "    </tr>\n",
       "    <tr>\n",
       "      <th>53</th>\n",
       "      <td>473</td>\n",
       "      <td>20635</td>\n",
       "      <td>1.82</td>\n",
       "      <td>79.44</td>\n",
       "    </tr>\n",
       "    <tr>\n",
       "      <th>57</th>\n",
       "      <td>475</td>\n",
       "      <td>22570</td>\n",
       "      <td>1.83</td>\n",
       "      <td>86.89</td>\n",
       "    </tr>\n",
       "    <tr>\n",
       "      <th>35</th>\n",
       "      <td>475</td>\n",
       "      <td>10284</td>\n",
       "      <td>1.83</td>\n",
       "      <td>39.59</td>\n",
       "    </tr>\n",
       "    <tr>\n",
       "      <th>33</th>\n",
       "      <td>483</td>\n",
       "      <td>9364</td>\n",
       "      <td>1.86</td>\n",
       "      <td>36.05</td>\n",
       "    </tr>\n",
       "    <tr>\n",
       "      <th>30</th>\n",
       "      <td>491</td>\n",
       "      <td>8123</td>\n",
       "      <td>1.89</td>\n",
       "      <td>31.27</td>\n",
       "    </tr>\n",
       "    <tr>\n",
       "      <th>50</th>\n",
       "      <td>502</td>\n",
       "      <td>19119</td>\n",
       "      <td>1.93</td>\n",
       "      <td>73.60</td>\n",
       "    </tr>\n",
       "    <tr>\n",
       "      <th>29</th>\n",
       "      <td>503</td>\n",
       "      <td>7632</td>\n",
       "      <td>1.94</td>\n",
       "      <td>29.38</td>\n",
       "    </tr>\n",
       "    <tr>\n",
       "      <th>51</th>\n",
       "      <td>503</td>\n",
       "      <td>19622</td>\n",
       "      <td>1.94</td>\n",
       "      <td>75.54</td>\n",
       "    </tr>\n",
       "    <tr>\n",
       "      <th>26</th>\n",
       "      <td>533</td>\n",
       "      <td>6093</td>\n",
       "      <td>2.05</td>\n",
       "      <td>23.46</td>\n",
       "    </tr>\n",
       "    <tr>\n",
       "      <th>54</th>\n",
       "      <td>535</td>\n",
       "      <td>21170</td>\n",
       "      <td>2.06</td>\n",
       "      <td>81.50</td>\n",
       "    </tr>\n",
       "    <tr>\n",
       "      <th>52</th>\n",
       "      <td>540</td>\n",
       "      <td>20162</td>\n",
       "      <td>2.08</td>\n",
       "      <td>77.62</td>\n",
       "    </tr>\n",
       "    <tr>\n",
       "      <th>36</th>\n",
       "      <td>548</td>\n",
       "      <td>10832</td>\n",
       "      <td>2.11</td>\n",
       "      <td>41.70</td>\n",
       "    </tr>\n",
       "    <tr>\n",
       "      <th>38</th>\n",
       "      <td>557</td>\n",
       "      <td>11954</td>\n",
       "      <td>2.14</td>\n",
       "      <td>46.02</td>\n",
       "    </tr>\n",
       "    <tr>\n",
       "      <th>24</th>\n",
       "      <td>558</td>\n",
       "      <td>4847</td>\n",
       "      <td>2.15</td>\n",
       "      <td>18.66</td>\n",
       "    </tr>\n",
       "    <tr>\n",
       "      <th>47</th>\n",
       "      <td>559</td>\n",
       "      <td>17474</td>\n",
       "      <td>2.15</td>\n",
       "      <td>67.27</td>\n",
       "    </tr>\n",
       "    <tr>\n",
       "      <th>42</th>\n",
       "      <td>560</td>\n",
       "      <td>14505</td>\n",
       "      <td>2.16</td>\n",
       "      <td>55.84</td>\n",
       "    </tr>\n",
       "    <tr>\n",
       "      <th>46</th>\n",
       "      <td>562</td>\n",
       "      <td>16915</td>\n",
       "      <td>2.16</td>\n",
       "      <td>65.12</td>\n",
       "    </tr>\n",
       "    <tr>\n",
       "      <th>49</th>\n",
       "      <td>563</td>\n",
       "      <td>18617</td>\n",
       "      <td>2.17</td>\n",
       "      <td>71.67</td>\n",
       "    </tr>\n",
       "    <tr>\n",
       "      <th>37</th>\n",
       "      <td>565</td>\n",
       "      <td>11397</td>\n",
       "      <td>2.18</td>\n",
       "      <td>43.87</td>\n",
       "    </tr>\n",
       "    <tr>\n",
       "      <th>48</th>\n",
       "      <td>580</td>\n",
       "      <td>18054</td>\n",
       "      <td>2.23</td>\n",
       "      <td>69.50</td>\n",
       "    </tr>\n",
       "    <tr>\n",
       "      <th>22</th>\n",
       "      <td>580</td>\n",
       "      <td>3700</td>\n",
       "      <td>2.23</td>\n",
       "      <td>14.24</td>\n",
       "    </tr>\n",
       "    <tr>\n",
       "      <th>23</th>\n",
       "      <td>589</td>\n",
       "      <td>4289</td>\n",
       "      <td>2.27</td>\n",
       "      <td>16.51</td>\n",
       "    </tr>\n",
       "    <tr>\n",
       "      <th>27</th>\n",
       "      <td>595</td>\n",
       "      <td>6688</td>\n",
       "      <td>2.29</td>\n",
       "      <td>25.75</td>\n",
       "    </tr>\n",
       "    <tr>\n",
       "      <th>45</th>\n",
       "      <td>600</td>\n",
       "      <td>16353</td>\n",
       "      <td>2.31</td>\n",
       "      <td>62.95</td>\n",
       "    </tr>\n",
       "    <tr>\n",
       "      <th>44</th>\n",
       "      <td>622</td>\n",
       "      <td>15753</td>\n",
       "      <td>2.39</td>\n",
       "      <td>60.64</td>\n",
       "    </tr>\n",
       "    <tr>\n",
       "      <th>43</th>\n",
       "      <td>626</td>\n",
       "      <td>15131</td>\n",
       "      <td>2.41</td>\n",
       "      <td>58.25</td>\n",
       "    </tr>\n",
       "    <tr>\n",
       "      <th>41</th>\n",
       "      <td>633</td>\n",
       "      <td>13945</td>\n",
       "      <td>2.44</td>\n",
       "      <td>53.68</td>\n",
       "    </tr>\n",
       "    <tr>\n",
       "      <th>40</th>\n",
       "      <td>635</td>\n",
       "      <td>13312</td>\n",
       "      <td>2.44</td>\n",
       "      <td>51.25</td>\n",
       "    </tr>\n",
       "    <tr>\n",
       "      <th>25</th>\n",
       "      <td>713</td>\n",
       "      <td>5560</td>\n",
       "      <td>2.74</td>\n",
       "      <td>21.40</td>\n",
       "    </tr>\n",
       "    <tr>\n",
       "      <th>39</th>\n",
       "      <td>723</td>\n",
       "      <td>12677</td>\n",
       "      <td>2.78</td>\n",
       "      <td>48.80</td>\n",
       "    </tr>\n",
       "  </tbody>\n",
       "</table>\n",
       "</div>"
      ],
      "text/plain": [
       "    Frec_abs  Frec_abs_Acumulada  Frec_Relativa_%  Frec_Rel_%_Acumulada\n",
       "20       358                2725             1.38                 10.49\n",
       "32       358                8881             1.38                 34.19\n",
       "21       395                3120             1.52                 12.01\n",
       "31       400                8523             1.54                 32.81\n",
       "60       418               23898             1.61                 92.00\n",
       "28       441                7129             1.70                 27.44\n",
       "34       445                9809             1.71                 37.76\n",
       "58       448               23018             1.72                 88.61\n",
       "56       452               22095             1.74                 85.06\n",
       "59       462               23480             1.78                 90.39\n",
       "55       473               21643             1.82                 83.32\n",
       "53       473               20635             1.82                 79.44\n",
       "57       475               22570             1.83                 86.89\n",
       "35       475               10284             1.83                 39.59\n",
       "33       483                9364             1.86                 36.05\n",
       "30       491                8123             1.89                 31.27\n",
       "50       502               19119             1.93                 73.60\n",
       "29       503                7632             1.94                 29.38\n",
       "51       503               19622             1.94                 75.54\n",
       "26       533                6093             2.05                 23.46\n",
       "54       535               21170             2.06                 81.50\n",
       "52       540               20162             2.08                 77.62\n",
       "36       548               10832             2.11                 41.70\n",
       "38       557               11954             2.14                 46.02\n",
       "24       558                4847             2.15                 18.66\n",
       "47       559               17474             2.15                 67.27\n",
       "42       560               14505             2.16                 55.84\n",
       "46       562               16915             2.16                 65.12\n",
       "49       563               18617             2.17                 71.67\n",
       "37       565               11397             2.18                 43.87\n",
       "48       580               18054             2.23                 69.50\n",
       "22       580                3700             2.23                 14.24\n",
       "23       589                4289             2.27                 16.51\n",
       "27       595                6688             2.29                 25.75\n",
       "45       600               16353             2.31                 62.95\n",
       "44       622               15753             2.39                 60.64\n",
       "43       626               15131             2.41                 58.25\n",
       "41       633               13945             2.44                 53.68\n",
       "40       635               13312             2.44                 51.25\n",
       "25       713                5560             2.74                 21.40\n",
       "39       723               12677             2.78                 48.80"
      ]
     },
     "execution_count": 108,
     "metadata": {},
     "output_type": "execute_result"
    }
   ],
   "source": [
    "# De esta forma trabajaremos con valores que representen igual o más de su valor per se en frecuencias, en este caso, \"1.33%\", resultado que surge \n",
    "#de dividir cada valor único por la totalidad de valores únicos (1/75), para desepjar posibles outliers o que tengan poca relevancia en el análisis.\n",
    "frec_df.loc[frec_df['Frec_Relativa_%'] >= 1.33].sort_values(by='Frec_Relativa_%',ascending=True)"
   ]
  }
 ],
 "metadata": {
  "kernelspec": {
   "display_name": "Python 3",
   "language": "python",
   "name": "python3"
  },
  "language_info": {
   "codemirror_mode": {
    "name": "ipython",
    "version": 3
   },
   "file_extension": ".py",
   "mimetype": "text/x-python",
   "name": "python",
   "nbconvert_exporter": "python",
   "pygments_lexer": "ipython3",
   "version": "3.10.4"
  },
  "orig_nbformat": 4,
  "vscode": {
   "interpreter": {
    "hash": "3ad933181bd8a04b432d3370b9dc3b0662ad032c4dfaa4e4f1596c548f763858"
   }
  }
 },
 "nbformat": 4,
 "nbformat_minor": 2
}

{
 "cells": [
  {
   "attachments": {},
   "cell_type": "markdown",
   "metadata": {},
   "source": [
    "# Satisfacción de Clientes de Starbucks"
   ]
  },
  {
   "attachments": {},
   "cell_type": "markdown",
   "metadata": {},
   "source": [
    "### **Presentación del problema específico**\n",
    "\n",
    "Según la Organización Mundial de la Salud (OMS), las Enfermedades Cardiovasculares (ECV) son la principal causa de muerte en todo el mundo. Se estima, por ejemplo, que en 2019 se llevaron la vida de unos 17,9 millones de personas. Más de tres cuartas partes de las defunciones por ECV se producen en los países de ingresos bajos y medios. En el antedicho año, el 38% de las muertes prematuras, esto es, de personas menores de 70 años, fueron atribuidas a ECVs. \n",
    "\n",
    "Para las personas con ECV o con alto riesgo cardiovascular son fundamentales la detección precoz y el tratamiento temprano que puede realizarse por medio de servicios de orientación o la administración de fármacos, según corresponda.\n",
    "\n",
    "> ##### **Fuentes: https://www.who.int/news-room/fact-sheets/detail/cardiovascular-diseases-(cvds)**\n",
    "\n",
    "Ahora bien, sabemos que en la mayoría de las ocaciones el desarrollo de una enfermedad cardiovascular depende de varios factores. Y es por esta razón que, como investigadores especializados en cardiología, nos hemos propuesto desarrollar un modelo predictivo que sirva para complementar los métodos de análisis y diagnóstico que se emplean en la actualidad. Para ello, trabajamos en articulación con las organizaciones líderes en el sector, tales como organismos de salud y empresas. \n",
    "\n",
    "\n",
    "### **Preguntas y objetivos de la investigación**\n",
    "\n",
    "**Objetivos general**\n",
    "\n",
    "Desarrollar un modelo de datos predictivo que pueda, a partir de factores vinculados al estilo de vida y datos clínicos básicos, determinar el riesgo que un determinado paciente tiene de desarrollar una ECV. \n",
    "\n",
    "**Objetivos particulares**\n",
    "\n",
    "* Armar un modelo predictivo de datos capaz de dar resultados certeros a partir de análisis clínicos de bajo costo.\n",
    "\n",
    "* Publicar resultados, con el fin de contribuir con un sistema de fácil implementación, que complemente el diagnóstico tradicional para la detección temprana de las ECV.\n",
    "\n",
    "### **Preguntas de investigación** \n",
    "\n",
    "* ¿Cómo son en términos de edad, peso,género etc., los pacientes que padecen ECVs?\n",
    "\n",
    "* ¿Qué sucede con la probabilidad de padecer ECV teniendo en cuentas las variables mencionadas ?\n",
    "\n",
    "* ¿Cuál/es son las variables que impactan con mayor fuerza en la probabilidad de padecer una ECV?\n",
    "\n",
    "### **Equipo de trabajo**\n",
    "\n",
    "  - Bruno Cruz Franchi\n",
    "  - Lagos Inés\n",
    "  - Andrea Olivera Medina\n",
    "  - Facundo Miglio\n",
    "\n",
    "### **Fuente del dataset** \n",
    "\n",
    "Agradecemos la enorme labor de recopilación de datos llevada a cabo por Médicos Sin Fronteras, el American Heart Association y el Detusch Herzzentrum München. La base de datos que nuestros socios han generado colaborativamente fue publicada en el sitio Kaggle:\n",
    "*https://www.kaggle.com/datasets/sulianova/cardiovascular-disease-dataset*"
   ]
  }
 ],
 "metadata": {
  "kernelspec": {
   "display_name": "Python 3",
   "language": "python",
   "name": "python3"
  },
  "language_info": {
   "name": "python",
   "version": "3.10.4"
  },
  "orig_nbformat": 4,
  "vscode": {
   "interpreter": {
    "hash": "3ad933181bd8a04b432d3370b9dc3b0662ad032c4dfaa4e4f1596c548f763858"
   }
  }
 },
 "nbformat": 4,
 "nbformat_minor": 2
}

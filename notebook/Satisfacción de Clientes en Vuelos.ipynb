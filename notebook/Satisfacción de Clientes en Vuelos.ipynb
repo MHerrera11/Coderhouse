{
 "cells": [
  {
   "attachments": {},
   "cell_type": "markdown",
   "metadata": {},
   "source": [
    "# Satisfacción de Clientes de Vuelos"
   ]
  },
  {
   "attachments": {},
   "cell_type": "markdown",
   "metadata": {},
   "source": [
    "### **Presentación del problema específico**\n",
    "\n",
    "A pesar de los esfuerzos de las compañías aéreas por mejorar la satisfacción del cliente en vuelos, aún existen varias problemáticas que pueden afectar negativamente la experiencia del cliente. Algunos de estos problemas incluyen:\n",
    "\n",
    "* Retrasos y cancelaciones de vuelos: Los retrasos y cancelaciones de vuelos son una de las mayores frustraciones para los viajeros.\n",
    "\n",
    "* Problemas con la reservación: A veces, los clientes pueden tener problemas con sus reservaciones, como cambios de horario o asiento, lo que puede causar frustración y desconfianza.\n",
    "\n",
    "* Comodidad limitada: Aunque las compañías aéreas han mejorado la calidad de los asientos en sus aviones, todavía hay muchas quejas sobre el espacio limitado y la incomodidad.\n",
    "\n",
    "* Servicio al cliente ineficiente: A veces, los representantes de atención al cliente pueden ser poco amables o ineficientes en el manejo de problemas y peticiones de los clientes.\n",
    "\n",
    "* Problemas con el equipaje: Los problemas con el equipaje, como la pérdida o el daño, son otra fuente común de frustración para los viajeros.\n",
    "\n",
    "* Falta de opciones de entretenimiento: Algunos clientes pueden sentir que las opciones de entretenimiento a bordo son limitadas o anticuadas.\n",
    "\n",
    "* Inseguridad en vuelo: Aunque los vuelos son generalmente seguros, la inseguridad en vuelo puede ser una preocupación para algunos clientes.\n",
    "\n",
    "Para abordar estos problemas y mejorar la satisfacción del cliente en vuelos, las compañías aéreas deben estar comprometidas con la mejora continua de sus procesos y servicios. Al lograr una satisfacción del cliente óptima, las compañías aéreas también pueden mejorar su reputación y competitividad en un mercado altamente competitivo, lo que conduce a un crecimiento sostenible y rentable.\n",
    "\n",
    "> ##### **Fuentes: https://acortar.link/eqZXHa**\n",
    "\n",
    "\n",
    "### **Preguntas y objetivos de la investigación**\n",
    "\n",
    "**Objetivos general**\n",
    "\n",
    "El objetivo final es crear una base de clientes leales que se sientan valorados y satisfechos con el servicio de la compañía aérea, lo que conduce a un aumento de la lealtad y la retención de clientes, así como a una mayor tasa de recomendaciones positivas. \n",
    "\n",
    "**Objetivos particulares**\n",
    "\n",
    "* Armar un modelo predictivo de datos capaz de dar resultados certeros a partir de análisis clínicos de bajo costo.\n",
    "\n",
    "* Publicar resultados, con el fin de contribuir con un sistema de fácil implementación, que complemente el diagnóstico tradicional para la detección temprana de las ECV.\n",
    "\n",
    "### **Preguntas de investigación** \n",
    "\n",
    "* ¿Cómo son en términos de edad, peso,género etc., los pacientes que padecen ECVs?\n",
    "\n",
    "* ¿Qué sucede con la probabilidad de padecer ECV teniendo en cuentas las variables mencionadas ?\n",
    "\n",
    "* ¿Cuál/es son las variables que impactan con mayor fuerza en la probabilidad de padecer una ECV?\n",
    "\n",
    "### **Equipo de trabajo**\n",
    "\n",
    "  - Bruno Cruz Franchi\n",
    "  - Lagos Inés\n",
    "  - Andrea Olivera Medina\n",
    "  - Facundo Miglio\n",
    "\n",
    "### **Fuente del dataset y criterios de selección** \n",
    "\n",
    "Agradecemos la enorme labor de recopilación de datos llevada a cabo por Médicos Sin Fronteras, el American Heart Association y el Detusch Herzzentrum München. La base de datos que nuestros socios han generado colaborativamente fue publicada en el sitio Kaggle:\n",
    "*https://www.kaggle.com/datasets/sulianova/cardiovascular-disease-dataset*"
   ]
  }
 ],
 "metadata": {
  "kernelspec": {
   "display_name": "Python 3",
   "language": "python",
   "name": "python3"
  },
  "language_info": {
   "name": "python",
   "version": "3.10.4"
  },
  "orig_nbformat": 4,
  "vscode": {
   "interpreter": {
    "hash": "3ad933181bd8a04b432d3370b9dc3b0662ad032c4dfaa4e4f1596c548f763858"
   }
  }
 },
 "nbformat": 4,
 "nbformat_minor": 2
}

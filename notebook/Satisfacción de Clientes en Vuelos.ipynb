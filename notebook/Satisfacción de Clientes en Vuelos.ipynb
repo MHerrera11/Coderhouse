{
 "cells": [
  {
   "attachments": {},
   "cell_type": "markdown",
   "metadata": {},
   "source": [
    "# Satisfacción de Clientes de Vuelos"
   ]
  },
  {
   "attachments": {},
   "cell_type": "markdown",
   "metadata": {},
   "source": [
    "### **Presentación del problema específico**\n",
    "\n",
    "A pesar de los esfuerzos de las compañías aéreas por mejorar la satisfacción del cliente en vuelos, aún existen varias problemáticas que pueden afectar negativamente la experiencia del cliente. Algunos de estos problemas incluyen:\n",
    "\n",
    "* Retrasos y cancelaciones de vuelos: Los retrasos y cancelaciones de vuelos son una de las mayores frustraciones para los viajeros.\n",
    "\n",
    "* Problemas con la reservación: A veces, los clientes pueden tener problemas con sus reservaciones, como cambios de horario o asiento, lo que puede causar frustración y desconfianza.\n",
    "\n",
    "* Comodidad limitada: Aunque las compañías aéreas han mejorado la calidad de los asientos en sus aviones, todavía hay muchas quejas sobre el espacio limitado y la incomodidad.\n",
    "\n",
    "* Servicio al cliente ineficiente: A veces, los representantes de atención al cliente pueden ser poco amables o ineficientes en el manejo de problemas y peticiones de los clientes.\n",
    "\n",
    "* Problemas con el equipaje: Los problemas con el equipaje, como la pérdida o el daño, son otra fuente común de frustración para los viajeros.\n",
    "\n",
    "* Falta de opciones de entretenimiento: Algunos clientes pueden sentir que las opciones de entretenimiento a bordo son limitadas o anticuadas.\n",
    "\n",
    "* Inseguridad en vuelo: Aunque los vuelos son generalmente seguros, la inseguridad en vuelo puede ser una preocupación para algunos clientes.\n",
    "\n",
    "Para abordar estos problemas y mejorar la satisfacción del cliente en vuelos, las compañías aéreas deben estar comprometidas con la mejora continua de sus procesos y servicios. Al lograr una satisfacción del cliente óptima, las compañías aéreas también pueden mejorar su reputación y competitividad en un mercado altamente competitivo, lo que conduce a un crecimiento sostenible y rentable.\n",
    "\n",
    "> ##### **Fuentes: https://acortar.link/eqZXHa**\n",
    "\n",
    "\n",
    "### **Preguntas y objetivos de la investigación**\n",
    "\n",
    "**Objetivos general**\n",
    "\n",
    "El objetivo final es crear una base de clientes leales que se sientan valorados y satisfechos con el servicio de la compañía aérea, lo que conduce a un aumento de la lealtad y la retención de clientes, así como a una mayor tasa de recomendaciones positivas. \n",
    "\n",
    "**Objetivos particulares**\n",
    "\n",
    "* Armar un modelo lineal de datos capaz de dar resultados sobre la satisfacción del cliente con los menores servicios prestados (para una minimización de costos).\n",
    "\n",
    "* Publicar resultados, con el fin de obtener una nueva base de datos con clientes satisfechos.\n",
    "\n",
    "### **Preguntas de investigación** \n",
    "\n",
    "* ¿Cómo son en términos de edad, género, etc., los pasajeros que vuelan en la aerolínea?\n",
    "\n",
    "* ¿Qué servicios en proporción son los más redituables para el pasajero?\n",
    "\n",
    "* ¿Que combinación mínima de servicios hacen una pasajero satisfecho?\n",
    "\n",
    "### **Equipo de trabajo**\n",
    "\n",
    "  - Matías Herrera\n",
    "\n",
    "### **Fuente del dataset** \n",
    "\n",
    "Airline Passenger Satisfaction en el sitio Kaggle:\n",
    "*https://acortar.link/mVFJLX*"
   ]
  }
 ],
 "metadata": {
  "kernelspec": {
   "display_name": "Python 3",
   "language": "python",
   "name": "python3"
  },
  "language_info": {
   "name": "python",
   "version": "3.10.4"
  },
  "orig_nbformat": 4,
  "vscode": {
   "interpreter": {
    "hash": "3ad933181bd8a04b432d3370b9dc3b0662ad032c4dfaa4e4f1596c548f763858"
   }
  }
 },
 "nbformat": 4,
 "nbformat_minor": 2
}
